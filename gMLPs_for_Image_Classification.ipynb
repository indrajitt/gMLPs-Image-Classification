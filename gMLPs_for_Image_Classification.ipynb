{
  "cells": [
    {
      "cell_type": "markdown",
      "metadata": {
        "id": "view-in-github",
        "colab_type": "text"
      },
      "source": [
        "<a href=\"https://colab.research.google.com/github/indrajitt/gMLPs-Image-Classification/blob/main/gMLPs_for_Image_Classification.ipynb\" target=\"_parent\"><img src=\"https://colab.research.google.com/assets/colab-badge.svg\" alt=\"Open In Colab\"/></a>"
      ]
    },
    {
      "cell_type": "markdown",
      "metadata": {
        "id": "iic7jiBk-fwx"
      },
      "source": [
        "# Using gMLPs for Image Classification"
      ]
    },
    {
      "cell_type": "markdown",
      "metadata": {
        "id": "MeFRfclC6Q5m"
      },
      "source": [
        "This notebook explores the using simple's MLPs with gating as an alternative to vision transformers for image classification. The notebook is based on this paper:\n",
        "\n",
        "*Hanxiao Liu, Zihang Dai, David R. So, Quoc V. Le (Jun 2021). [Pay Attention to MLPs](https://arxiv.org/abs/2105.08050v2). arXiv:2105.08050 [cs.LG]*"
      ]
    },
    {
      "cell_type": "markdown",
      "metadata": {
        "id": "-xOMJJnE-UCO"
      },
      "source": [
        "## Setup"
      ]
    },
    {
      "cell_type": "code",
      "source": [
        "!pip install einops"
      ],
      "metadata": {
        "colab": {
          "base_uri": "https://localhost:8080/"
        },
        "id": "3SRJEFq_LKTj",
        "outputId": "ceb679f3-f201-4530-e35a-89ce513dca2d"
      },
      "execution_count": 1,
      "outputs": [
        {
          "output_type": "stream",
          "name": "stdout",
          "text": [
            "Collecting einops\n",
            "  Downloading einops-0.4.1-py3-none-any.whl (28 kB)\n",
            "Installing collected packages: einops\n",
            "Successfully installed einops-0.4.1\n"
          ]
        }
      ]
    },
    {
      "cell_type": "code",
      "execution_count": 2,
      "metadata": {
        "colab": {
          "base_uri": "https://localhost:8080/"
        },
        "id": "xYXBD55cnyO5",
        "outputId": "6f47aefc-f504-463a-d730-3132ba6e0e78"
      },
      "outputs": [
        {
          "output_type": "execute_result",
          "data": {
            "text/plain": [
              "<torch._C.Generator at 0x7f2d8049c170>"
            ]
          },
          "metadata": {},
          "execution_count": 2
        }
      ],
      "source": [
        "import torch\n",
        "import torchvision\n",
        "import torchvision.transforms as transforms\n",
        "import numpy as np\n",
        "import matplotlib.pyplot as plt\n",
        "import shutil\n",
        "\n",
        "\n",
        "from einops import rearrange, repeat\n",
        "from einops.layers.torch import Rearrange, Reduce\n",
        "from torch import nn, optim\n",
        "from torch.utils.data import DataLoader\n",
        "from torchsummary import summary\n",
        "from tqdm import tqdm\n",
        "\n",
        "# SEED\n",
        "torch.manual_seed(0)"
      ]
    },
    {
      "cell_type": "code",
      "execution_count": 3,
      "metadata": {
        "colab": {
          "base_uri": "https://localhost:8080/"
        },
        "id": "JOgfIXq--XnS",
        "outputId": "a09cf3c6-9057-4c73-8ff7-d14e6be7fd3d"
      },
      "outputs": [
        {
          "output_type": "stream",
          "name": "stdout",
          "text": [
            "GPU:  Tesla K80\n"
          ]
        }
      ],
      "source": [
        "if torch.cuda.is_available():    \n",
        "    device = torch.device(\"cuda\")\n",
        "    print('GPU: ', torch.cuda.get_device_name(0))\n",
        "else:\n",
        "    device = torch.device(\"cpu\")\n",
        "    print('No GPU available')"
      ]
    },
    {
      "cell_type": "code",
      "source": [
        "from google.colab import drive\n",
        "drive.mount('/content/drive')"
      ],
      "metadata": {
        "colab": {
          "base_uri": "https://localhost:8080/"
        },
        "id": "PT07rQ9L1k2m",
        "outputId": "b655f0b4-97a2-44d2-f36c-bc0cbb42b905"
      },
      "execution_count": 4,
      "outputs": [
        {
          "output_type": "stream",
          "name": "stdout",
          "text": [
            "Mounted at /content/drive\n"
          ]
        }
      ]
    },
    {
      "cell_type": "code",
      "source": [
        "# Utility functions\n",
        "def pair(val):\n",
        "  return (val, val) if not isinstance(val, tuple) else val\n",
        "\n",
        "def exists(val):\n",
        "  return val is not None\n",
        "\n",
        "def dropout_layers(layers, prob_survival):\n",
        "  if prob_survival == 1:\n",
        "    return layers\n",
        "\n",
        "  num_layers = len(layers)\n",
        "  to_drop = torch.zeros(num_layers).uniform_(0., 1.) > prob_survival\n",
        "\n",
        "  # make sure at least one layer makes it\n",
        "  if all(to_drop):\n",
        "    rand_index = randrange(num_layers)\n",
        "    to_drop[rand_index] = False\n",
        "\n",
        "  layers = [layer for (layer, drop) in zip(layers, to_drop) if not drop]\n",
        "  return layers\n",
        "\n",
        "def check_size(image_size, patch_size):\n",
        "  sqrt_num_patches, remainder = divmod(image_size, patch_size)\n",
        "  assert remainder == 0, \"`image_size` must be divisibe by `patch_size`\"\n",
        "  num_patches = sqrt_num_patches ** 2\n",
        "  return num_patches\n"
      ],
      "metadata": {
        "id": "ktkbN62LGvgg"
      },
      "execution_count": 5,
      "outputs": []
    },
    {
      "cell_type": "markdown",
      "metadata": {
        "id": "TNr4wpL7r8qn"
      },
      "source": [
        "## Understanding the model\n",
        "\n",
        "The transformer architecture combines two important concepts:  \n",
        "\n",
        "\n",
        "1. A recurrent-free architecture\n",
        "which computes the representations for each individual token in parallel  \n",
        "multi-head self attention.\n",
        "2.   Blocks which aggregate spatial information across tokens.  \n",
        "\n",
        "This model is basically a MLP-based alternative to Transformers without self-attention. It consists of spatial and channel projections with static parameterization.  \n",
        "***\n",
        " To investigate the necessity of the Transformer's self-attention mechanism, the team designed gMLP using only basic MLP layers combined with gating, then compared its performance on vision and language tasks to previous Transformer implementations.On the ImageNet image classification task, gMLP achieves an accuracy of 81.6, comparable to Vision Transformers (ViT) at 81.8, while using fewer parameters and FLOPs.\n",
        "\n",
        "***\n",
        "We will now explore the model propsed by the researchers:\n"
      ]
    },
    {
      "cell_type": "markdown",
      "metadata": {
        "id": "Grr54SCjV4xH"
      },
      "source": [
        "### Spatial Gating Unit\n",
        "The main innovation in gMLP is a Spatial Gating Unit (SGU) which captures the interactions across sequence elements; this performs the same role as attention in a Transformer, but without requiring encodings for element positions. Instead, the SGU performs element-wise multiplication of its input with a linear projection of that same input. The researchers found that for training stability, it was necessary to initialize the weights of the gate to 1, which in effect makes the gate a simple pass-through; in the course of training, the weights are updated to learn the spatial interactions between sequence elements. The image below shows the structure of the spatial gating unit : \n",
        "\n",
        "![Screenshot 2022-03-04 at 2.43.11 PM.png](data:image/png;base64,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)"
      ]
    },
    {
      "cell_type": "code",
      "execution_count": 6,
      "metadata": {
        "id": "IMCMvGVuWA6O"
      },
      "outputs": [],
      "source": [
        "class SpatialGatingUnit(nn.Module):\n",
        "    def __init__(self, d_ffn, seq_len):\n",
        "        super().__init__()\n",
        "        self.norm = nn.LayerNorm(d_ffn)\n",
        "        self.spatial_proj = nn.Conv1d(seq_len, seq_len, kernel_size=1)\n",
        "        nn.init.constant_(self.spatial_proj.bias, 1.0)\n",
        "\n",
        "    def forward(self, x):\n",
        "        u, v = x.chunk(2, dim=-1)\n",
        "        v = self.norm(v)\n",
        "        v = self.spatial_proj(v)\n",
        "        out = u * v\n",
        "        return out"
      ]
    },
    {
      "cell_type": "markdown",
      "metadata": {
        "id": "mbUU-TBgUCaR"
      },
      "source": [
        "### GMLP Block\n",
        "\n",
        "![Screenshot 2022-03-04 at 11.38.09 AM.png](data:image/png;base64,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)\n"
      ]
    },
    {
      "cell_type": "code",
      "execution_count": 7,
      "metadata": {
        "id": "SrmUHEjyUQdH"
      },
      "outputs": [],
      "source": [
        "class gMLPBlock(nn.Module):\n",
        "    def __init__(self, d_model, d_ffn, seq_len):\n",
        "        super().__init__()\n",
        "        self.norm = nn.LayerNorm(d_model)\n",
        "        self.channel_proj1 = nn.Linear(d_model, d_ffn * 2)\n",
        "        self.gelu_activation = nn.GELU()\n",
        "        self.channel_proj2 = nn.Linear(d_ffn, d_model)\n",
        "        self.sgu = SpatialGatingUnit(d_ffn, seq_len)\n",
        "\n",
        "    def forward(self, x):\n",
        "        residual = x\n",
        "        x = self.norm(x)\n",
        "        x = self.channel_proj1(x)\n",
        "        x = self.gelu_activation(x)\n",
        "        x = self.sgu(x)\n",
        "        x = self.channel_proj2(x)\n",
        "        out = x + residual\n",
        "        return out"
      ]
    },
    {
      "cell_type": "code",
      "execution_count": 8,
      "metadata": {
        "id": "Rd8w4ge9r6EA"
      },
      "outputs": [],
      "source": [
        "\n",
        "class gMLP(nn.Module):\n",
        "    def __init__(self, d_model=256, d_ffn=512, seq_len=256, num_layers=6):\n",
        "        super().__init__()\n",
        "        self.model = nn.Sequential(\n",
        "            *[gMLPBlock(d_model, d_ffn, seq_len) for _ in range(num_layers)]\n",
        "        )\n",
        "\n",
        "    def forward(self, x):\n",
        "        return self.model(x)"
      ]
    },
    {
      "cell_type": "code",
      "execution_count": 9,
      "metadata": {
        "id": "lyHPt45FtQy3"
      },
      "outputs": [],
      "source": [
        "class gMLPForImageClassification(gMLP):\n",
        "    def __init__(\n",
        "        self,\n",
        "        image_size=256,\n",
        "        patch_size=16,\n",
        "        in_channels=3,\n",
        "        num_classes=1000,\n",
        "        d_model=256,\n",
        "        d_ffn=512,\n",
        "        seq_len=256,\n",
        "        num_layers=6,\n",
        "    ):\n",
        "        num_patches = check_size(image_size, patch_size)\n",
        "        super().__init__(d_model, d_ffn, seq_len, num_layers)\n",
        "        self.patcher = nn.Conv2d(\n",
        "            in_channels, d_model, kernel_size=patch_size, stride=patch_size\n",
        "        )\n",
        "        self.classifier = nn.Linear(d_model, num_classes)\n",
        "\n",
        "    def forward(self, x):\n",
        "        patches = self.patcher(x)\n",
        "        batch_size, num_channels, _, _ = patches.shape\n",
        "        patches = patches.permute(0, 2, 3, 1)\n",
        "        patches = patches.view(batch_size, -1, num_channels)\n",
        "        embedding = self.model(patches)\n",
        "        embedding = embedding.mean(dim=1)\n",
        "        out = self.classifier(embedding)\n",
        "        return out"
      ]
    },
    {
      "cell_type": "markdown",
      "metadata": {
        "id": "lh6aI1jX0GUC"
      },
      "source": [
        "## Preparation of dataset for training and evaluation\n",
        "\n",
        "We chose the CIFAR-10 dataset for the purpose of this Image Classification task. The CIFAR-10 dataset is a standard **balanced dataset** used for several image classification tasks like ImageNet which is used in the paper. The limitations of this dataset is that it consists of a **lesser number of images that are of lower resolution than the images that were used in this paper**. However it is an appropraite dataset for image classification taking into consideration the amount of compute resources that are available to us."
      ]
    },
    {
      "cell_type": "code",
      "execution_count": 10,
      "metadata": {
        "id": "oQhdZWaT0b0L"
      },
      "outputs": [],
      "source": [
        "def CIFAR10DataLoader(split, batch_size=8, num_workers=2, shuffle=True):\n",
        "    '''\n",
        "    A wrapper function that creates a DataLoader for CIFAR10 dataset loaded from torchvision using \n",
        "    the parameters supplied and applies the required data augmentations.\n",
        "\n",
        "    Args:\n",
        "        split: A string to decide if train or test data to be used (Values: 'train', 'test')\n",
        "        batch_size: Batch size to used for loading data (Default=8)\n",
        "        num_workers: Number of parallel workers used to load data (Default=2)\n",
        "        shuffle: Boolean value to decide if data should be randomized (Default=True)\n",
        "    Output:\n",
        "        DataLoader Object\n",
        "    '''\n",
        "    mean = [0.5, 0.5, 0.5]\n",
        "    std =  [0.5, 0.5, 0.5]\n",
        "    if split == 'train':\n",
        "      train_transform = transforms.Compose([\n",
        "            transforms.ToTensor(),\n",
        "            transforms.Normalize(mean, std)\n",
        "        ])\n",
        "      cifar10 = torchvision.datasets.CIFAR10(root='./data', train=True, download=True, transform=train_transform)\n",
        "      dataloader = DataLoader(cifar10, batch_size=batch_size, num_workers=num_workers, shuffle=shuffle)\n",
        "    elif split == 'test':\n",
        "      test_transform = transforms.Compose([\n",
        "          transforms.ToTensor(),\n",
        "          transforms.Normalize(mean, std)\n",
        "      ])\n",
        "      cifar10 = torchvision.datasets.CIFAR10(root='./data', train=False, download=True, transform=test_transform)\n",
        "      dataloader = DataLoader(cifar10, batch_size=batch_size, num_workers=num_workers, shuffle=shuffle)\n",
        "\n",
        "    return dataloader"
      ]
    },
    {
      "cell_type": "code",
      "execution_count": 11,
      "metadata": {
        "colab": {
          "base_uri": "https://localhost:8080/",
          "height": 86,
          "referenced_widgets": [
            "8d9e58bd02754f29b53352f9176b4ae9",
            "c5c2a02edf4f4ab9b104b2ea3f5eb745",
            "6b82423cd1554ddda6a1d4599ce9b7b8",
            "5295cc032fb643a2a058cfb6dad900e6",
            "3c49d50091ff48468fd0547fd7ed8c93",
            "16dd3072c27841bbbe7a1a932369a470",
            "6d8b2cbf9ba34625bff0017f456b932f",
            "0ac357c9930b405589f56d8fc2d39804",
            "424691e217c648e8858e90e71328cc78",
            "5dd325d22a4c494ab86e0c042a707ccc",
            "3946ddc3be964a9facdf141d00eaadaf"
          ]
        },
        "id": "2oi4FvVE2Q_w",
        "outputId": "92751deb-dacf-4efe-806e-b533fced8eca"
      },
      "outputs": [
        {
          "output_type": "stream",
          "name": "stdout",
          "text": [
            "Downloading https://www.cs.toronto.edu/~kriz/cifar-10-python.tar.gz to ./data/cifar-10-python.tar.gz\n"
          ]
        },
        {
          "output_type": "display_data",
          "data": {
            "text/plain": [
              "  0%|          | 0/170498071 [00:00<?, ?it/s]"
            ],
            "application/vnd.jupyter.widget-view+json": {
              "version_major": 2,
              "version_minor": 0,
              "model_id": "8d9e58bd02754f29b53352f9176b4ae9"
            }
          },
          "metadata": {}
        },
        {
          "output_type": "stream",
          "name": "stdout",
          "text": [
            "Extracting ./data/cifar-10-python.tar.gz to ./data\n"
          ]
        }
      ],
      "source": [
        "train_dataloader = CIFAR10DataLoader('train')"
      ]
    },
    {
      "cell_type": "code",
      "execution_count": 12,
      "metadata": {
        "colab": {
          "base_uri": "https://localhost:8080/",
          "height": 541
        },
        "id": "WjJm9XcM2owo",
        "outputId": "19b11b34-8aa3-42ef-f43e-70089c382bab"
      },
      "outputs": [
        {
          "output_type": "stream",
          "name": "stderr",
          "text": [
            "Clipping input data to the valid range for imshow with RGB data ([0..1] for floats or [0..255] for integers).\n",
            "Clipping input data to the valid range for imshow with RGB data ([0..1] for floats or [0..255] for integers).\n",
            "Clipping input data to the valid range for imshow with RGB data ([0..1] for floats or [0..255] for integers).\n",
            "Clipping input data to the valid range for imshow with RGB data ([0..1] for floats or [0..255] for integers).\n",
            "Clipping input data to the valid range for imshow with RGB data ([0..1] for floats or [0..255] for integers).\n",
            "Clipping input data to the valid range for imshow with RGB data ([0..1] for floats or [0..255] for integers).\n",
            "Clipping input data to the valid range for imshow with RGB data ([0..1] for floats or [0..255] for integers).\n",
            "Clipping input data to the valid range for imshow with RGB data ([0..1] for floats or [0..255] for integers).\n",
            "Clipping input data to the valid range for imshow with RGB data ([0..1] for floats or [0..255] for integers).\n",
            "Clipping input data to the valid range for imshow with RGB data ([0..1] for floats or [0..255] for integers).\n"
          ]
        },
        {
          "output_type": "display_data",
          "data": {
            "text/plain": [
              "<Figure size 1152x432 with 10 Axes>"
            ],
            "image/png": "[encoded data removed]"
          },
          "metadata": {
            "needs_background": "light"
          }
        }
      ],
      "source": [
        "# show some images\n",
        "plt.figure(figsize=(16, 6))\n",
        "for i in range(10):\n",
        "    plt.subplot(2, 5, i + 1)\n",
        "    image, _ = train_dataloader.dataset.__getitem__(i)\n",
        "    image = np.transpose(image, (1, 2, 0))\n",
        "    plt.imshow(image.squeeze().numpy())\n",
        "    plt.axis('off')"
      ]
    },
    {
      "cell_type": "markdown",
      "metadata": {
        "id": "QA17uqPQ8n8d"
      },
      "source": [
        "## Model training and evaluation"
      ]
    },
    {
      "cell_type": "code",
      "execution_count": 13,
      "metadata": {
        "id": "_i2b95w391pz"
      },
      "outputs": [],
      "source": [
        "# Initializations of all the constants used in the training and testing process\n",
        "lr = 0.003\n",
        "batch_size = 128\n",
        "num_workers = 2\n",
        "patch_size = 4\n",
        "classes = 10\n",
        "channels = 3\n",
        "epochs = 75"
      ]
    },
    {
      "cell_type": "code",
      "execution_count": 14,
      "metadata": {
        "id": "LFNpdrzSBm49"
      },
      "outputs": [],
      "source": [
        "def train(model, dataloader, criterion, optimizer):\n",
        "    '''\n",
        "    Function used to train the model over a single epoch and update it according to the\n",
        "    calculated gradients.\n",
        "\n",
        "    Args:\n",
        "        model: Model supplied to the function\n",
        "        dataloader: DataLoader supplied to the function\n",
        "        criterion: Criterion used to calculate loss\n",
        "        optimizer: Optimizer used update the model\n",
        "\n",
        "    Output:\n",
        "        running_loss: Training Loss (Float)\n",
        "        running_accuracy: Training Accuracy (Float)\n",
        "    '''\n",
        "    running_loss = 0.0\n",
        "    running_accuracy = 0.0\n",
        "\n",
        "    for data, target in tqdm(dataloader):\n",
        "        data = data.to(\"cuda\")\n",
        "        target = target.to(\"cuda\")\n",
        "        output = model(data)\n",
        "        \n",
        "        loss = criterion(output, target)\n",
        "        \n",
        "        optimizer.zero_grad()\n",
        "        loss.backward()\n",
        "        optimizer.step()\n",
        "\n",
        "        acc = (output.argmax(dim=1) == target).float().mean()\n",
        "        running_accuracy += acc / len(dataloader)\n",
        "        running_loss += loss.item() / len(dataloader)\n",
        "\n",
        "    return running_loss, running_accuracy\n",
        "\n",
        "def evaluation(model, dataloader, criterion):\n",
        "    '''\n",
        "    Function used to evaluate the model on the test dataset.\n",
        "\n",
        "    Args:\n",
        "        model: Model supplied to the function\n",
        "        dataloader: DataLoader supplied to the function\n",
        "        criterion: Criterion used to calculate loss\n",
        "    Output:\n",
        "        test_loss: Testing Loss (Float)\n",
        "        test_accuracy: Testing Accuracy (Float)\n",
        "    '''\n",
        "    with torch.no_grad():\n",
        "        test_accuracy = 0.0\n",
        "        test_loss = 0.0\n",
        "        for data, target in tqdm(dataloader):\n",
        "            data = data.to(device)\n",
        "            target = target.to(device)\n",
        "            output = model(data)\n",
        "      \n",
        "            loss = criterion(output, target)\n",
        "            acc = (output.argmax(dim=1) == target).float().mean()\n",
        "            test_accuracy += acc / len(dataloader)\n",
        "            test_loss += loss.item() / len(dataloader)\n",
        "\n",
        "    return test_loss, test_accuracy"
      ]
    },
    {
      "cell_type": "code",
      "execution_count": 15,
      "metadata": {
        "colab": {
          "base_uri": "https://localhost:8080/"
        },
        "id": "NTvMAZqpIDj5",
        "outputId": "8175ee5e-1112-435c-f6b1-40d7bb8f1b20"
      },
      "outputs": [
        {
          "output_type": "stream",
          "name": "stdout",
          "text": [
            "----------------------------------------------------------------\n",
            "        Layer (type)               Output Shape         Param #\n",
            "================================================================\n",
            "            Conv2d-1           [128, 128, 8, 8]           6,272\n",
            "         LayerNorm-2             [128, 64, 128]             256\n",
            "            Linear-3             [128, 64, 512]          66,048\n",
            "              GELU-4             [128, 64, 512]               0\n",
            "         LayerNorm-5             [128, 64, 256]             512\n",
            "            Conv1d-6             [128, 64, 256]           4,160\n",
            " SpatialGatingUnit-7             [128, 64, 256]               0\n",
            "            Linear-8             [128, 64, 128]          32,896\n",
            "         gMLPBlock-9             [128, 64, 128]               0\n",
            "        LayerNorm-10             [128, 64, 128]             256\n",
            "           Linear-11             [128, 64, 512]          66,048\n",
            "             GELU-12             [128, 64, 512]               0\n",
            "        LayerNorm-13             [128, 64, 256]             512\n",
            "           Conv1d-14             [128, 64, 256]           4,160\n",
            "SpatialGatingUnit-15             [128, 64, 256]               0\n",
            "           Linear-16             [128, 64, 128]          32,896\n",
            "        gMLPBlock-17             [128, 64, 128]               0\n",
            "        LayerNorm-18             [128, 64, 128]             256\n",
            "           Linear-19             [128, 64, 512]          66,048\n",
            "             GELU-20             [128, 64, 512]               0\n",
            "        LayerNorm-21             [128, 64, 256]             512\n",
            "           Conv1d-22             [128, 64, 256]           4,160\n",
            "SpatialGatingUnit-23             [128, 64, 256]               0\n",
            "           Linear-24             [128, 64, 128]          32,896\n",
            "        gMLPBlock-25             [128, 64, 128]               0\n",
            "        LayerNorm-26             [128, 64, 128]             256\n",
            "           Linear-27             [128, 64, 512]          66,048\n",
            "             GELU-28             [128, 64, 512]               0\n",
            "        LayerNorm-29             [128, 64, 256]             512\n",
            "           Conv1d-30             [128, 64, 256]           4,160\n",
            "SpatialGatingUnit-31             [128, 64, 256]               0\n",
            "           Linear-32             [128, 64, 128]          32,896\n",
            "        gMLPBlock-33             [128, 64, 128]               0\n",
            "        LayerNorm-34             [128, 64, 128]             256\n",
            "           Linear-35             [128, 64, 512]          66,048\n",
            "             GELU-36             [128, 64, 512]               0\n",
            "        LayerNorm-37             [128, 64, 256]             512\n",
            "           Conv1d-38             [128, 64, 256]           4,160\n",
            "SpatialGatingUnit-39             [128, 64, 256]               0\n",
            "           Linear-40             [128, 64, 128]          32,896\n",
            "        gMLPBlock-41             [128, 64, 128]               0\n",
            "        LayerNorm-42             [128, 64, 128]             256\n",
            "           Linear-43             [128, 64, 512]          66,048\n",
            "             GELU-44             [128, 64, 512]               0\n",
            "        LayerNorm-45             [128, 64, 256]             512\n",
            "           Conv1d-46             [128, 64, 256]           4,160\n",
            "SpatialGatingUnit-47             [128, 64, 256]               0\n",
            "           Linear-48             [128, 64, 128]          32,896\n",
            "        gMLPBlock-49             [128, 64, 128]               0\n",
            "           Linear-50                  [128, 10]           1,290\n",
            "================================================================\n",
            "Total params: 630,794\n",
            "Trainable params: 630,794\n",
            "Non-trainable params: 0\n",
            "----------------------------------------------------------------\n",
            "Input size (MB): 1.50\n",
            "Forward/backward pass size (MB): 824.01\n",
            "Params size (MB): 2.41\n",
            "Estimated Total Size (MB): 827.92\n",
            "----------------------------------------------------------------\n"
          ]
        }
      ],
      "source": [
        "model = gMLPForImageClassification(image_size = 32,\n",
        "      patch_size = patch_size,\n",
        "      in_channels = channels,\n",
        "      num_classes = classes,\n",
        "      d_model=128,\n",
        "      d_ffn=256,\n",
        "      seq_len=64,\n",
        "      num_layers=6)\n",
        "model = model.cuda()\n",
        "model.name = \"gMLP\"\n",
        "summary(model, (3, 32, 32), 128)"
      ]
    },
    {
      "cell_type": "code",
      "source": [
        "train_dataloader = CIFAR10DataLoader(split='train', batch_size=batch_size, num_workers=num_workers, shuffle=True)\n",
        "test_dataloader = CIFAR10DataLoader(split='test', batch_size=batch_size, num_workers=num_workers, shuffle=False)"
      ],
      "metadata": {
        "colab": {
          "base_uri": "https://localhost:8080/"
        },
        "id": "i8VRBcFaNkqF",
        "outputId": "54c0295e-81a1-466d-dfea-520c0cf0fc3a"
      },
      "execution_count": 16,
      "outputs": [
        {
          "output_type": "stream",
          "name": "stdout",
          "text": [
            "Files already downloaded and verified\n",
            "Files already downloaded and verified\n"
          ]
        }
      ]
    },
    {
      "cell_type": "code",
      "source": [
        "def run_model(epochs, model, resume_from_checkpoint=False):\n",
        "  \"\"\"\n",
        "      This function takes the model as an argument and runs the model for the \n",
        "    specified number of epochs. The user can choose to resume from the epoch, \n",
        "    saved in gDrive.\n",
        "\n",
        "    Args:\n",
        "          model: Model supplied to the function\n",
        "          epochs: Number of epochs to run the model for\n",
        "          resume_from_checkpoint: Used saved parameters to resume training from \n",
        "            last epoch (Default = False)\n",
        "    Output:\n",
        "        test_loss: Testing Loss (Float)\n",
        "        test_accuracy: Testing Accuracy (Float)\n",
        "  \"\"\"\n",
        "  train_accs = []\n",
        "  test_accs = []\n",
        "\n",
        "  criterion = nn.CrossEntropyLoss().to(device)\n",
        "  optimizer = optim.Adam(model.parameters(), lr=lr)\n",
        "  scheduler = optim.lr_scheduler.OneCycleLR(optimizer, max_lr=lr, steps_per_epoch=len(train_dataloader), epochs=epochs)\n",
        "\n",
        "  if not resume_from_checkpoint:\n",
        "    for epoch in range(epochs):\n",
        "\n",
        "        running_loss, running_accuracy = train(model, train_dataloader, criterion, optimizer)\n",
        "        print(f\"Epoch : {epoch+1} - acc: {running_accuracy:.4f} - loss : {running_loss:.4f}\\n\")\n",
        "        train_accs.append(running_accuracy)\n",
        "\n",
        "        test_loss, test_accuracy = evaluation(model, test_dataloader, criterion)\n",
        "        print(f\"test acc: {test_accuracy:.4f} - test loss : {test_loss:.4f}\\n\")\n",
        "        test_accs.append(test_accuracy)\n",
        "\n",
        "        if (epoch+1)%5 == 0:\n",
        "          torch.save({\n",
        "                'epoch': epoch,\n",
        "                'model': model,\n",
        "                'optimizer': optimizer,\n",
        "                'scheduler': scheduler,\n",
        "                'train_acc': train_accs,\n",
        "                'test_acc': test_accs\n",
        "            }, './drive/MyDrive/ModelParameters/' + model.name + '_CIFAR10_checkpoint.pt') \n",
        "  else: \n",
        "  # Resume from saved epoch\n",
        "    checkpoint = torch.load('./drive/MyDrive/ModelParameters/' + model.name + '_CIFAR10_checkpoint.pt')\n",
        "    model = checkpoint['model']\n",
        "    last_epoch = checkpoint['epoch']\n",
        "    optimizer = checkpoint['optimizer']\n",
        "    schdeuler = checkpoint['scheduler']\n",
        "    train_accs = checkpoint['train_acc']\n",
        "    test_accs = checkpoint['test_acc']\n",
        "    print(\"Resuming from epoch : \"+str(last_epoch))\n",
        "    for epoch in range(last_epoch+1, epochs):\n",
        "\n",
        "        running_loss, running_accuracy = train(model, train_dataloader, criterion, optimizer)\n",
        "        print(f\"Epoch : {epoch+1} - acc: {running_accuracy:.4f} - loss : {running_loss:.4f}\\n\")\n",
        "        train_accs.append(running_accuracy)\n",
        "\n",
        "        test_loss, test_accuracy = evaluation(model, test_dataloader, criterion)\n",
        "        print(f\"test acc: {test_accuracy:.4f} - test loss : {test_loss:.4f}\\n\")\n",
        "        test_accs.append(test_accuracy)\n",
        "\n",
        "        if (epoch+1)%5 == 0:\n",
        "          torch.save({\n",
        "                'epoch': epoch,\n",
        "                'model': model,\n",
        "                'optimizer': optimizer,\n",
        "                'scheduler': scheduler,\n",
        "                'train_acc': train_accs,\n",
        "                'test_acc': test_accs\n",
        "            }, './drive/MyDrive/ModelParameters/' + model.name + '_CIFAR10_checkpoint.pt') \n",
        "  return train_accs, test_accs"
      ],
      "metadata": {
        "id": "GP4XCO1QOGEG"
      },
      "execution_count": 17,
      "outputs": []
    },
    {
      "cell_type": "code",
      "source": [
        "def print_performance_graph(epochs, model_name, train_accs, test_accs):\n",
        "  train_accs_cpu = [acc.cpu().item() for acc in train_accs]\n",
        "  test_accs_cpu = [acc.cpu().item() for acc in test_accs]\n",
        "\n",
        "  plt.style.use('seaborn')\n",
        "  plt.plot(range(1, epochs+1), train_accs_cpu, label='Train Accuracy')\n",
        "  plt.plot(range(1, epochs+1), test_accs_cpu, label='Test Accuracy')\n",
        "\n",
        "  plt.xlabel(\"Epochs\")\n",
        "  plt.ylabel(\"Accuracy\")\n",
        "\n",
        "  plt.title(\"Train vs Test Accuracy for \"+model_name)\n",
        "  plt.legend(loc='lower right')"
      ],
      "metadata": {
        "id": "2gjWXvEAbmC8"
      },
      "execution_count": 18,
      "outputs": []
    },
    {
      "cell_type": "code",
      "execution_count": 19,
      "metadata": {
        "id": "Y-kag4F8Gab6",
        "colab": {
          "base_uri": "https://localhost:8080/"
        },
        "outputId": "0959fb4b-5e25-4004-fd65-bc62c85960aa"
      },
      "outputs": [
        {
          "output_type": "stream",
          "name": "stdout",
          "text": [
            "Resuming from epoch : 74\n"
          ]
        }
      ],
      "source": [
        "train_accs, test_accs = run_model(epochs, model, True)"
      ]
    },
    {
      "cell_type": "code",
      "execution_count": 20,
      "metadata": {
        "id": "7GEZYWSGG_Vo",
        "colab": {
          "base_uri": "https://localhost:8080/",
          "height": 376
        },
        "outputId": "64895661-3523-41b2-fb12-9f03262aa0de"
      },
      "outputs": [
        {
          "output_type": "display_data",
          "data": {
            "text/plain": [
              "<Figure size 576x396 with 1 Axes>"
            ],
            "image/png": "[encoded data removed]"
          },
          "metadata": {}
        }
      ],
      "source": [
        "print_performance_graph(epochs, \"gMLP\", train_accs, test_accs)"
      ]
    },
    {
      "cell_type": "markdown",
      "source": [
        "## Comparison with ViT\n",
        "\n",
        "Vision Transformer is currently considered to be one of the best models available for Image Classifaction tasks. The sequence of the operations is as follows -\n",
        "\n",
        "    Input -> CreatePatches -> ClassToken, PatchToEmbed , PositionEmbed -> Transformer -> ClassificationHead -> Output\n",
        "                                   |            | |                |\n",
        "                                   |---Concat---| |----Addition----|\n",
        "\n",
        "We now implement a ViT model from scratch and train it on the same data. We use the performance of ViT on the same dataset after training with same compute power to compare the performance of ViT against gMLP. To implement the model from scratch, [this](https://github.com/ra1ph2/Vision-Transformer) repo was used a a reference.\n",
        "\n"
      ],
      "metadata": {
        "id": "qPc4T_yQ_T7w"
      }
    },
    {
      "cell_type": "code",
      "source": [
        "class Attention(nn.Module):\n",
        "  def __init__(self, embed_dim, heads=8, activation=None, dropout=None):\n",
        "    super(Attention, self).__init__()\n",
        "    self.heads = heads\n",
        "    self.embed_dim = embed_dim\n",
        "    \n",
        "    self.queries = nn.Linear(embed_dim, embed_dim, bias=False)\n",
        "    self.keys = nn.Linear(embed_dim, embed_dim, bias=False)\n",
        "    self.values = nn.Linear(embed_dim, embed_dim, bias=False)\n",
        "\n",
        "    if activation == \"relu\":\n",
        "      self.activation = nn.ReLU()\n",
        "    else:\n",
        "      self.activation = nn.Identity()\n",
        "    self.dropout = nn.Dropout(dropout)\n",
        "    self.softmax = nn.Softmax(dim=-1)\n",
        "\n",
        "  def forward(self, input):\n",
        "    # input.size = (batch_size, seq_len, embed_dim)\n",
        "    batch_size, seq_len, embed_dim = input.size()\n",
        "    assert embed_dim == self.embed_dim, \"Received input does not have expected\\\n",
        " embedding dimension\"\n",
        "\n",
        "    queries = self.activation(self.queries(input))  \n",
        "    keys = self.activation(self.keys(input))  \n",
        "    values =self.activation(self.values(input))  \n",
        "\n",
        "    # output : (batch_size * heads, seq_len, reduced_dim)\n",
        "    queries = self._reshape_heads(queries)  \n",
        "    keys = self._reshape_heads(keys)  \n",
        "    values =self._reshape_heads(values) \n",
        "\n",
        "    # attention_scores: (batch_size * heads, seq_len, seq_len) | Softmaxed along the last dimension\n",
        "    attention_scores = self.softmax(torch.matmul(queries, keys.transpose(1, 2))) \n",
        "\n",
        "    # out: (batch_size * heads, seq_len, reduced_dim)\n",
        "    out = torch.matmul(self.dropout(attention_scores), values)\n",
        "    \n",
        "    # output of _reshape_heads_back(): (batch_size, seq_len, embed_size)\n",
        "    out = self._reshape_heads_back(out)\n",
        "\n",
        "    return out, attention_scores\n",
        "\n",
        "  def _reshape_heads(self, inp):\n",
        "    # inp: (batch_size, seq_len, embed_dim)\n",
        "    batch_size, seq_len, embed_dim = inp.size()\n",
        "\n",
        "    reduced_dim = self.embed_dim // self.heads\n",
        "    assert reduced_dim * self.heads == self.embed_dim\n",
        "    out = inp.reshape(batch_size, seq_len, self.heads, reduced_dim)\n",
        "    out = out.permute(0, 2, 1, 3)\n",
        "    out = out.reshape(-1, seq_len, reduced_dim)\n",
        "\n",
        "    # out: (batch_size * heads, seq_len, reduced_dim)\n",
        "    return out\n",
        "\n",
        "  def _reshape_heads_back(self, inp):\n",
        "    # inp: (batch_size * heads, seq_len, reduced_dim) | reduced_dim = embed_dim // heads\n",
        "    batch_size_mul_heads, seq_len, reduced_dim = inp.size()\n",
        "    batch_size = batch_size_mul_heads // self.heads\n",
        "\n",
        "    out = inp.reshape(batch_size, self.heads, seq_len, reduced_dim)\n",
        "    out = out.permute(0, 2, 1, 3)\n",
        "    out = out.reshape(batch_size, seq_len, self.embed_dim)\n",
        "\n",
        "    # out: (batch_size, seq_len, embed_dim)\n",
        "    return out\n"
      ],
      "metadata": {
        "id": "WhaCNiK0I6vm"
      },
      "execution_count": 21,
      "outputs": []
    },
    {
      "cell_type": "code",
      "source": [
        "class FeedForward(nn.Module):\n",
        "    def __init__(self, embed_dim, forward_expansion=1, dropout=0.1):\n",
        "        super(FeedForward, self).__init__()\n",
        "        self.embed_dim = embed_dim\n",
        "        self.fc1 = nn.Linear(embed_dim, embed_dim * forward_expansion)\n",
        "        self.activation = nn.GELU()\n",
        "        self.fc2 = nn.Linear(embed_dim * forward_expansion, embed_dim)\n",
        "        self.dropout = nn.Dropout(dropout)\n",
        "\n",
        "    def forward(self, inp):\n",
        "        # inp: (batch_size, seq_len, embed_dim)\n",
        "        batch_size, seq_len, embed_dim = inp.size()\n",
        "        assert embed_dim == self.embed_dim\n",
        "\n",
        "        out = self.dropout(self.activation(self.fc1(inp)))\n",
        "        # out = self.dropout(self.fc2(out))\n",
        "        out = self.fc2(out)\n",
        "\n",
        "        # out: (batch_size, seq_len, embed_dim)\n",
        "        return out "
      ],
      "metadata": {
        "id": "NkBBMkkri1-5"
      },
      "execution_count": 22,
      "outputs": []
    },
    {
      "cell_type": "code",
      "source": [
        "class TransformerBlock(nn.Module):\n",
        "    def __init__(self, embed_dim, heads=8, activation=None, forward_expansion=1, dropout=0.1):\n",
        "        super(TransformerBlock, self).__init__()\n",
        "        self.embed_dim = embed_dim\n",
        "        self.norm1 = nn.LayerNorm(embed_dim)\n",
        "        self.attention = Attention(embed_dim, heads, activation, dropout)\n",
        "        self.norm2 = nn.LayerNorm(embed_dim)\n",
        "        self.feed_forward = FeedForward(embed_dim, forward_expansion, dropout)\n",
        "\n",
        "    def forward(self, inp):\n",
        "        # inp: (batch_size, seq_len, embed_dim)\n",
        "        batch_size, seq_len, embed_dim = inp.size()\n",
        "        assert embed_dim == self.embed_dim\n",
        "\n",
        "        res = inp\n",
        "        out = self.norm1(inp)\n",
        "        out, _ = self.attention(out)\n",
        "        out = out + res\n",
        "        \n",
        "        res = out\n",
        "        out = self.norm2(out)\n",
        "        out = self.feed_forward(out)\n",
        "        out = out + res\n",
        "\n",
        "        # out: (batch_size, seq_len, embed_dim)\n",
        "        return out"
      ],
      "metadata": {
        "id": "NI-pxBEhi4bq"
      },
      "execution_count": 23,
      "outputs": []
    },
    {
      "cell_type": "code",
      "source": [
        "class Transformer(nn.Module):\n",
        "    def __init__(self, embed_dim, layers, heads=8, activation=None, forward_expansion=1, dropout=0.1):\n",
        "        super(Transformer, self).__init__()\n",
        "        self.embed_dim = embed_dim\n",
        "        self.trans_blocks = nn.ModuleList(\n",
        "            [TransformerBlock(embed_dim, heads, activation, forward_expansion, dropout) for i in range(layers)]\n",
        "        )\n",
        "\n",
        "    def forward(self, inp):\n",
        "        # inp: (batch_size, seq_len, embed_dim)\n",
        "\n",
        "        out = inp\n",
        "        for block in self.trans_blocks:\n",
        "            out = block(out)\n",
        "\n",
        "        # out: (batch_size, seq_len, embed_dim)\n",
        "        return out"
      ],
      "metadata": {
        "id": "GRsrTSXfi6Xn"
      },
      "execution_count": 24,
      "outputs": []
    },
    {
      "cell_type": "code",
      "source": [
        "class ClassificationHead(nn.Module):\n",
        "    def __init__(self, embed_dim, classes, dropout=0.1):\n",
        "        super(ClassificationHead, self).__init__()\n",
        "        self.embed_dim = embed_dim\n",
        "        self.classes = classes\n",
        "        self.fc1 = nn.Linear(embed_dim, embed_dim // 2)\n",
        "        self.activation = nn.GELU()\n",
        "        self.fc2 = nn.Linear(embed_dim // 2, classes)\n",
        "        self.softmax = nn.Softmax(dim=-1)\n",
        "        self.dropout = nn.Dropout(dropout)\n",
        "    \n",
        "    def forward(self, inp):\n",
        "        # inp: (batch_size, embed_dim)\n",
        "        batch_size, embed_dim = inp.size()\n",
        "        assert embed_dim == self.embed_dim\n",
        "\n",
        "        out = self.dropout(self.activation(self.fc1(inp)))\n",
        "        # out = self.softmax(self.fc2(out))\n",
        "        out = self.fc2(out)\n",
        "\n",
        "        # out: (batch_size, classes) \n",
        "        return out"
      ],
      "metadata": {
        "id": "mcVZKonFi9Px"
      },
      "execution_count": 25,
      "outputs": []
    },
    {
      "cell_type": "code",
      "source": [
        "class VisionTransformer(nn.Module):\n",
        "    def __init__(self, patch_size, max_len, embed_dim, classes, layers, channels=3, heads=8, activation=None, forward_expansion=1, dropout=0.1):\n",
        "        super(VisionTransformer, self).__init__()\n",
        "        self.name = 'VisionTransformer'\n",
        "        self.patch_size = patch_size\n",
        "        self.embed_dim = embed_dim\n",
        "        self.channels = channels\n",
        "        self.patch_to_embed = nn.Linear(patch_size * patch_size * channels, embed_dim)\n",
        "        self.position_embed = nn.Parameter(torch.randn((max_len, embed_dim)))\n",
        "        self.transformer = Transformer(embed_dim, layers, heads, activation, forward_expansion, dropout)\n",
        "        self.classification_head = ClassificationHead(embed_dim, classes)\n",
        "        self.class_token = nn.Parameter(torch.zeros(1, 1, embed_dim))\n",
        "\n",
        "    def forward(self, inp):\n",
        "        # inp: (batch_size, channels, width, height)\n",
        "        batch_size, channels, width, height = inp.size()\n",
        "        assert channels == self.channels\n",
        "\n",
        "        out = inp.unfold(2, self.patch_size, self.patch_size).unfold(3, self.patch_size, self.patch_size).contiguous()\n",
        "        out = out.view(batch_size, channels, -1, self.patch_size, self.patch_size)\n",
        "        out = out.permute(0, 2, 3, 4, 1)\n",
        "        # out: (batch_size, seq_len, patch_size, patch_size, channels) | seq_len would be (width*height)/(patch_size**2)\n",
        "        batch_size, seq_len, patch_size, _, channels = out.size()\n",
        "        \n",
        "        out = out.reshape(batch_size, seq_len, -1)\n",
        "        out = self.patch_to_embed(out)\n",
        "        # out: (batch_size, seq_len, embed_dim)\n",
        "\n",
        "        class_token = self.class_token.expand(batch_size, -1, -1)\n",
        "        out = torch.cat([class_token, out], dim=1)\n",
        "        # out: (batch_size, seq_len+1, embed_dim)\n",
        "\n",
        "        position_embed = self.position_embed[:seq_len+1]\n",
        "        position_embed = position_embed.unsqueeze(0).expand(batch_size, seq_len+1, self.embed_dim)\n",
        "        out = out + position_embed\n",
        "        # out: (batch_size, seq_len+1, embed_dim) | Added Positional Embeddings\n",
        "\n",
        "        out = self.transformer(out)\n",
        "        # out: (batch_size, seq_len+1, embed_dim) \n",
        "        class_token = out[:, 0]\n",
        "        # class_token: (batch_size, embed_dim)\n",
        "\n",
        "        class_out = self.classification_head(class_token)\n",
        "        # class_out: (batch_size, classes)\n",
        "        \n",
        "        return class_out"
      ],
      "metadata": {
        "id": "aNMOQQCsi_X-"
      },
      "execution_count": 26,
      "outputs": []
    },
    {
      "cell_type": "code",
      "source": [
        "# Vision Transformer Architecture\n",
        "epochs = 50\n",
        "model = VisionTransformer(\n",
        "    patch_size=patch_size,\n",
        "    max_len=100,\n",
        "    embed_dim=512,\n",
        "    classes=classes,\n",
        "    layers=12,\n",
        "    channels=channels,\n",
        "    heads=8).to(device)\n",
        "\n",
        "summary(model, (3, 32, 32), 128)\n"
      ],
      "metadata": {
        "id": "RY2XePXzjJnv",
        "colab": {
          "base_uri": "https://localhost:8080/"
        },
        "outputId": "8dcbfa73-87a2-47f8-b308-bac08568f644"
      },
      "execution_count": 27,
      "outputs": [
        {
          "output_type": "stream",
          "name": "stdout",
          "text": [
            "----------------------------------------------------------------\n",
            "        Layer (type)               Output Shape         Param #\n",
            "================================================================\n",
            "            Linear-1             [128, 64, 512]          25,088\n",
            "         LayerNorm-2             [128, 65, 512]           1,024\n",
            "            Linear-3             [128, 65, 512]         262,144\n",
            "          Identity-4             [128, 65, 512]               0\n",
            "            Linear-5             [128, 65, 512]         262,144\n",
            "          Identity-6             [128, 65, 512]               0\n",
            "            Linear-7             [128, 65, 512]         262,144\n",
            "          Identity-8             [128, 65, 512]               0\n",
            "           Softmax-9              [128, 65, 65]               0\n",
            "          Dropout-10              [128, 65, 65]               0\n",
            "        Attention-11  [[-1, 65, 512], [-1, 65, 65]]               0\n",
            "        LayerNorm-12             [128, 65, 512]           1,024\n",
            "           Linear-13             [128, 65, 512]         262,656\n",
            "             GELU-14             [128, 65, 512]               0\n",
            "          Dropout-15             [128, 65, 512]               0\n",
            "           Linear-16             [128, 65, 512]         262,656\n",
            "      FeedForward-17             [128, 65, 512]               0\n",
            " TransformerBlock-18             [128, 65, 512]               0\n",
            "        LayerNorm-19             [128, 65, 512]           1,024\n",
            "           Linear-20             [128, 65, 512]         262,144\n",
            "         Identity-21             [128, 65, 512]               0\n",
            "           Linear-22             [128, 65, 512]         262,144\n",
            "         Identity-23             [128, 65, 512]               0\n",
            "           Linear-24             [128, 65, 512]         262,144\n",
            "         Identity-25             [128, 65, 512]               0\n",
            "          Softmax-26              [128, 65, 65]               0\n",
            "          Dropout-27              [128, 65, 65]               0\n",
            "        Attention-28  [[-1, 65, 512], [-1, 65, 65]]               0\n",
            "        LayerNorm-29             [128, 65, 512]           1,024\n",
            "           Linear-30             [128, 65, 512]         262,656\n",
            "             GELU-31             [128, 65, 512]               0\n",
            "          Dropout-32             [128, 65, 512]               0\n",
            "           Linear-33             [128, 65, 512]         262,656\n",
            "      FeedForward-34             [128, 65, 512]               0\n",
            " TransformerBlock-35             [128, 65, 512]               0\n",
            "        LayerNorm-36             [128, 65, 512]           1,024\n",
            "           Linear-37             [128, 65, 512]         262,144\n",
            "         Identity-38             [128, 65, 512]               0\n",
            "           Linear-39             [128, 65, 512]         262,144\n",
            "         Identity-40             [128, 65, 512]               0\n",
            "           Linear-41             [128, 65, 512]         262,144\n",
            "         Identity-42             [128, 65, 512]               0\n",
            "          Softmax-43              [128, 65, 65]               0\n",
            "          Dropout-44              [128, 65, 65]               0\n",
            "        Attention-45  [[-1, 65, 512], [-1, 65, 65]]               0\n",
            "        LayerNorm-46             [128, 65, 512]           1,024\n",
            "           Linear-47             [128, 65, 512]         262,656\n",
            "             GELU-48             [128, 65, 512]               0\n",
            "          Dropout-49             [128, 65, 512]               0\n",
            "           Linear-50             [128, 65, 512]         262,656\n",
            "      FeedForward-51             [128, 65, 512]               0\n",
            " TransformerBlock-52             [128, 65, 512]               0\n",
            "        LayerNorm-53             [128, 65, 512]           1,024\n",
            "           Linear-54             [128, 65, 512]         262,144\n",
            "         Identity-55             [128, 65, 512]               0\n",
            "           Linear-56             [128, 65, 512]         262,144\n",
            "         Identity-57             [128, 65, 512]               0\n",
            "           Linear-58             [128, 65, 512]         262,144\n",
            "         Identity-59             [128, 65, 512]               0\n",
            "          Softmax-60              [128, 65, 65]               0\n",
            "          Dropout-61              [128, 65, 65]               0\n",
            "        Attention-62  [[-1, 65, 512], [-1, 65, 65]]               0\n",
            "        LayerNorm-63             [128, 65, 512]           1,024\n",
            "           Linear-64             [128, 65, 512]         262,656\n",
            "             GELU-65             [128, 65, 512]               0\n",
            "          Dropout-66             [128, 65, 512]               0\n",
            "           Linear-67             [128, 65, 512]         262,656\n",
            "      FeedForward-68             [128, 65, 512]               0\n",
            " TransformerBlock-69             [128, 65, 512]               0\n",
            "        LayerNorm-70             [128, 65, 512]           1,024\n",
            "           Linear-71             [128, 65, 512]         262,144\n",
            "         Identity-72             [128, 65, 512]               0\n",
            "           Linear-73             [128, 65, 512]         262,144\n",
            "         Identity-74             [128, 65, 512]               0\n",
            "           Linear-75             [128, 65, 512]         262,144\n",
            "         Identity-76             [128, 65, 512]               0\n",
            "          Softmax-77              [128, 65, 65]               0\n",
            "          Dropout-78              [128, 65, 65]               0\n",
            "        Attention-79  [[-1, 65, 512], [-1, 65, 65]]               0\n",
            "        LayerNorm-80             [128, 65, 512]           1,024\n",
            "           Linear-81             [128, 65, 512]         262,656\n",
            "             GELU-82             [128, 65, 512]               0\n",
            "          Dropout-83             [128, 65, 512]               0\n",
            "           Linear-84             [128, 65, 512]         262,656\n",
            "      FeedForward-85             [128, 65, 512]               0\n",
            " TransformerBlock-86             [128, 65, 512]               0\n",
            "        LayerNorm-87             [128, 65, 512]           1,024\n",
            "           Linear-88             [128, 65, 512]         262,144\n",
            "         Identity-89             [128, 65, 512]               0\n",
            "           Linear-90             [128, 65, 512]         262,144\n",
            "         Identity-91             [128, 65, 512]               0\n",
            "           Linear-92             [128, 65, 512]         262,144\n",
            "         Identity-93             [128, 65, 512]               0\n",
            "          Softmax-94              [128, 65, 65]               0\n",
            "          Dropout-95              [128, 65, 65]               0\n",
            "        Attention-96  [[-1, 65, 512], [-1, 65, 65]]               0\n",
            "        LayerNorm-97             [128, 65, 512]           1,024\n",
            "           Linear-98             [128, 65, 512]         262,656\n",
            "             GELU-99             [128, 65, 512]               0\n",
            "         Dropout-100             [128, 65, 512]               0\n",
            "          Linear-101             [128, 65, 512]         262,656\n",
            "     FeedForward-102             [128, 65, 512]               0\n",
            "TransformerBlock-103             [128, 65, 512]               0\n",
            "       LayerNorm-104             [128, 65, 512]           1,024\n",
            "          Linear-105             [128, 65, 512]         262,144\n",
            "        Identity-106             [128, 65, 512]               0\n",
            "          Linear-107             [128, 65, 512]         262,144\n",
            "        Identity-108             [128, 65, 512]               0\n",
            "          Linear-109             [128, 65, 512]         262,144\n",
            "        Identity-110             [128, 65, 512]               0\n",
            "         Softmax-111              [128, 65, 65]               0\n",
            "         Dropout-112              [128, 65, 65]               0\n",
            "       Attention-113  [[-1, 65, 512], [-1, 65, 65]]               0\n",
            "       LayerNorm-114             [128, 65, 512]           1,024\n",
            "          Linear-115             [128, 65, 512]         262,656\n",
            "            GELU-116             [128, 65, 512]               0\n",
            "         Dropout-117             [128, 65, 512]               0\n",
            "          Linear-118             [128, 65, 512]         262,656\n",
            "     FeedForward-119             [128, 65, 512]               0\n",
            "TransformerBlock-120             [128, 65, 512]               0\n",
            "       LayerNorm-121             [128, 65, 512]           1,024\n",
            "          Linear-122             [128, 65, 512]         262,144\n",
            "        Identity-123             [128, 65, 512]               0\n",
            "          Linear-124             [128, 65, 512]         262,144\n",
            "        Identity-125             [128, 65, 512]               0\n",
            "          Linear-126             [128, 65, 512]         262,144\n",
            "        Identity-127             [128, 65, 512]               0\n",
            "         Softmax-128              [128, 65, 65]               0\n",
            "         Dropout-129              [128, 65, 65]               0\n",
            "       Attention-130  [[-1, 65, 512], [-1, 65, 65]]               0\n",
            "       LayerNorm-131             [128, 65, 512]           1,024\n",
            "          Linear-132             [128, 65, 512]         262,656\n",
            "            GELU-133             [128, 65, 512]               0\n",
            "         Dropout-134             [128, 65, 512]               0\n",
            "          Linear-135             [128, 65, 512]         262,656\n",
            "     FeedForward-136             [128, 65, 512]               0\n",
            "TransformerBlock-137             [128, 65, 512]               0\n",
            "       LayerNorm-138             [128, 65, 512]           1,024\n",
            "          Linear-139             [128, 65, 512]         262,144\n",
            "        Identity-140             [128, 65, 512]               0\n",
            "          Linear-141             [128, 65, 512]         262,144\n",
            "        Identity-142             [128, 65, 512]               0\n",
            "          Linear-143             [128, 65, 512]         262,144\n",
            "        Identity-144             [128, 65, 512]               0\n",
            "         Softmax-145              [128, 65, 65]               0\n",
            "         Dropout-146              [128, 65, 65]               0\n",
            "       Attention-147  [[-1, 65, 512], [-1, 65, 65]]               0\n",
            "       LayerNorm-148             [128, 65, 512]           1,024\n",
            "          Linear-149             [128, 65, 512]         262,656\n",
            "            GELU-150             [128, 65, 512]               0\n",
            "         Dropout-151             [128, 65, 512]               0\n",
            "          Linear-152             [128, 65, 512]         262,656\n",
            "     FeedForward-153             [128, 65, 512]               0\n",
            "TransformerBlock-154             [128, 65, 512]               0\n",
            "       LayerNorm-155             [128, 65, 512]           1,024\n",
            "          Linear-156             [128, 65, 512]         262,144\n",
            "        Identity-157             [128, 65, 512]               0\n",
            "          Linear-158             [128, 65, 512]         262,144\n",
            "        Identity-159             [128, 65, 512]               0\n",
            "          Linear-160             [128, 65, 512]         262,144\n",
            "        Identity-161             [128, 65, 512]               0\n",
            "         Softmax-162              [128, 65, 65]               0\n",
            "         Dropout-163              [128, 65, 65]               0\n",
            "       Attention-164  [[-1, 65, 512], [-1, 65, 65]]               0\n",
            "       LayerNorm-165             [128, 65, 512]           1,024\n",
            "          Linear-166             [128, 65, 512]         262,656\n",
            "            GELU-167             [128, 65, 512]               0\n",
            "         Dropout-168             [128, 65, 512]               0\n",
            "          Linear-169             [128, 65, 512]         262,656\n",
            "     FeedForward-170             [128, 65, 512]               0\n",
            "TransformerBlock-171             [128, 65, 512]               0\n",
            "       LayerNorm-172             [128, 65, 512]           1,024\n",
            "          Linear-173             [128, 65, 512]         262,144\n",
            "        Identity-174             [128, 65, 512]               0\n",
            "          Linear-175             [128, 65, 512]         262,144\n",
            "        Identity-176             [128, 65, 512]               0\n",
            "          Linear-177             [128, 65, 512]         262,144\n",
            "        Identity-178             [128, 65, 512]               0\n",
            "         Softmax-179              [128, 65, 65]               0\n",
            "         Dropout-180              [128, 65, 65]               0\n",
            "       Attention-181  [[-1, 65, 512], [-1, 65, 65]]               0\n",
            "       LayerNorm-182             [128, 65, 512]           1,024\n",
            "          Linear-183             [128, 65, 512]         262,656\n",
            "            GELU-184             [128, 65, 512]               0\n",
            "         Dropout-185             [128, 65, 512]               0\n",
            "          Linear-186             [128, 65, 512]         262,656\n",
            "     FeedForward-187             [128, 65, 512]               0\n",
            "TransformerBlock-188             [128, 65, 512]               0\n",
            "       LayerNorm-189             [128, 65, 512]           1,024\n",
            "          Linear-190             [128, 65, 512]         262,144\n",
            "        Identity-191             [128, 65, 512]               0\n",
            "          Linear-192             [128, 65, 512]         262,144\n",
            "        Identity-193             [128, 65, 512]               0\n",
            "          Linear-194             [128, 65, 512]         262,144\n",
            "        Identity-195             [128, 65, 512]               0\n",
            "         Softmax-196              [128, 65, 65]               0\n",
            "         Dropout-197              [128, 65, 65]               0\n",
            "       Attention-198  [[-1, 65, 512], [-1, 65, 65]]               0\n",
            "       LayerNorm-199             [128, 65, 512]           1,024\n",
            "          Linear-200             [128, 65, 512]         262,656\n",
            "            GELU-201             [128, 65, 512]               0\n",
            "         Dropout-202             [128, 65, 512]               0\n",
            "          Linear-203             [128, 65, 512]         262,656\n",
            "     FeedForward-204             [128, 65, 512]               0\n",
            "TransformerBlock-205             [128, 65, 512]               0\n",
            "     Transformer-206             [128, 65, 512]               0\n",
            "          Linear-207                 [128, 256]         131,328\n",
            "            GELU-208                 [128, 256]               0\n",
            "         Dropout-209                 [128, 256]               0\n",
            "          Linear-210                  [128, 10]           2,570\n",
            "ClassificationHead-211                  [128, 10]               0\n",
            "================================================================\n",
            "Total params: 15,924,490\n",
            "Trainable params: 15,924,490\n",
            "Non-trainable params: 0\n",
            "----------------------------------------------------------------\n",
            "Input size (MB): 1.50\n",
            "Forward/backward pass size (MB): 18497.34\n",
            "Params size (MB): 60.75\n",
            "Estimated Total Size (MB): 18559.59\n",
            "----------------------------------------------------------------\n"
          ]
        }
      ]
    },
    {
      "cell_type": "code",
      "source": [
        "train_accs, test_accs = run_model(epochs, model, True)"
      ],
      "metadata": {
        "colab": {
          "base_uri": "https://localhost:8080/"
        },
        "id": "_jQbsY99jZUo",
        "outputId": "13adee52-5e98-4d56-9a65-7cb9d413e15a"
      },
      "execution_count": 28,
      "outputs": [
        {
          "output_type": "stream",
          "name": "stdout",
          "text": [
            "Resuming from epoch : 49\n"
          ]
        }
      ]
    },
    {
      "cell_type": "code",
      "source": [
        "print_performance_graph(epochs, model.name, train_accs, test_accs)"
      ],
      "metadata": {
        "id": "74w7XsKOcJp2",
        "colab": {
          "base_uri": "https://localhost:8080/",
          "height": 376
        },
        "outputId": "83f7498f-1706-4c7e-cf93-fa86bc5962dd"
      },
      "execution_count": 29,
      "outputs": [
        {
          "output_type": "display_data",
          "data": {
            "text/plain": [
              "<Figure size 576x396 with 1 Axes>"
            ],
            "image/png": "[encoded data removed]"
          },
          "metadata": {}
        }
      ]
    },
    {
      "cell_type": "markdown",
      "source": [
        "## Ablation Study :gMLP with Self-Attention\n",
        "\n",
        "In the paper \"*Pay Attention to MLPs*\" the authors perform an ablation study on the usefulness of attention for NLP tasks. For our study we will be performing a similar study on the effectiveness of self-attention for Image Classification tasks using [this](https://github.com/lucidrains/g-mlp-pytorch) repo as a reference.\n",
        "\n",
        "To isolate the effect of self-attention, we experiment with a hybrid model where a tiny self-attention\n",
        "block is attached to the gating function of gMLP. gMLP itself is capable of capturing spatial relationships, the authors hypothesize that this extra self-attention module's presence is more relevant than its capacity. In our model we use a small attention head which has size 64. This is much lesser in comparision to transformer models like ViT which usually have 8 heads with larger size. "
      ],
      "metadata": {
        "id": "8fIhsrWg4gpn"
      }
    },
    {
      "cell_type": "code",
      "source": [
        "class Attention(nn.Module):\n",
        "  def __init__(self, dim_in, dim_out, dim_inner):\n",
        "    super().__init__()\n",
        "    self.scale = dim_inner ** -0.5\n",
        "\n",
        "    self.to_qkv = nn.Linear(dim_in, dim_inner * 3, bias = False)\n",
        "    self.to_out = nn.Linear(dim_inner, dim_out)\n",
        "\n",
        "  def forward(self, x):\n",
        "    q, k, v = self.to_qkv(x).chunk(3, dim = -1)\n",
        "    sim = torch.einsum('b i d, b j d -> b i j', q, k) * self.scale\n",
        "\n",
        "    attn = sim.softmax(dim = -1)\n",
        "    out = torch.einsum('b i j, b j d -> b i d', attn, v)\n",
        "    return self.to_out(out)"
      ],
      "metadata": {
        "id": "f1yXl2QW4vBG"
      },
      "execution_count": 30,
      "outputs": []
    },
    {
      "cell_type": "code",
      "source": [
        "class SpatialGatingUnit(nn.Module):\n",
        "  def __init__(\n",
        "      self,\n",
        "      dim,\n",
        "      dim_seq,\n",
        "      act = nn.Identity(),\n",
        "      heads = 1,\n",
        "      init_eps = 1e-3\n",
        "  ):\n",
        "\n",
        "    super().__init__()\n",
        "    dim_out = dim // 2\n",
        "    self.heads = heads\n",
        "    self.norm = nn.LayerNorm(dim_out)\n",
        "\n",
        "    self.act = act\n",
        "\n",
        "    shape = (heads, dim_seq, dim_seq)\n",
        "    weight = torch.zeros(shape).to(device)\n",
        "\n",
        "    self.weight = nn.Parameter(weight)\n",
        "    init_eps /= dim_seq\n",
        "    nn.init.uniform_(self.weight, -init_eps, init_eps)\n",
        "\n",
        "    self.bias = nn.Parameter(torch.ones(heads, dim_seq).to(device))\n",
        "\n",
        "  def forward(self, x, gate_res = None):\n",
        "    n, h = x.shape[1], self.heads\n",
        "\n",
        "    res, gate = x.chunk(2, dim = -1)\n",
        "    gate = self.norm(gate)\n",
        "\n",
        "    weight, bias = self.weight, self.bias\n",
        "\n",
        "    gate = rearrange(gate, 'b n (h d) -> b h n d', h = h)\n",
        "\n",
        "    gate = torch.einsum('b h n d, h m n -> b h m d', gate, weight)\n",
        "    gate = gate + rearrange(bias, 'h n -> () h n ()')\n",
        "\n",
        "    gate = rearrange(gate, 'b h n d -> b n (h d)')\n",
        "\n",
        "    if exists(gate_res):\n",
        "      gate = gate + gate_res\n",
        "\n",
        "    return self.act(gate) * res"
      ],
      "metadata": {
        "id": "B-p-Didf-GN3"
      },
      "execution_count": 31,
      "outputs": []
    },
    {
      "cell_type": "code",
      "source": [
        "class gMLPBlock(nn.Module):\n",
        "  def __init__(\n",
        "      self,\n",
        "      *,\n",
        "      dim,\n",
        "      dim_ff,\n",
        "      seq_len,\n",
        "      heads = 1,\n",
        "      attn_dim = None,\n",
        "      act = nn.Identity()\n",
        "  ):\n",
        "    super().__init__()\n",
        "    self.proj_in = nn.Sequential(\n",
        "        nn.Linear(dim, dim_ff),\n",
        "        nn.GELU()\n",
        "    )\n",
        "\n",
        "    self.attn = Attention(dim, dim_ff // 2, attn_dim) if exists(attn_dim) else None\n",
        "\n",
        "    self.sgu = SpatialGatingUnit(dim_ff, seq_len, act, heads)\n",
        "    self.proj_out = nn.Linear(dim_ff // 2, dim)\n",
        "\n",
        "  def forward(self, x):\n",
        "    gate_res = self.attn(x) if exists(self.attn) else None\n",
        "    x = self.proj_in(x)\n",
        "    x = self.sgu(x, gate_res = gate_res)\n",
        "    x = self.proj_out(x)\n",
        "    return x"
      ],
      "metadata": {
        "id": "7yVHJIGb-3-d"
      },
      "execution_count": 32,
      "outputs": []
    },
    {
      "cell_type": "code",
      "source": [
        "class Residual(nn.Module):\n",
        "  def __init__(self, fn):\n",
        "    super().__init__()\n",
        "    self.fn = fn\n",
        "\n",
        "  def forward(self, x):\n",
        "    return self.fn(x) + x"
      ],
      "metadata": {
        "id": "R6CjJA-3Lb4i"
      },
      "execution_count": 33,
      "outputs": []
    },
    {
      "cell_type": "code",
      "source": [
        "class PreNorm(nn.Module):\n",
        "  def __init__(self, dim, fn):\n",
        "    super().__init__()\n",
        "    self.fn = fn\n",
        "    self.norm = nn.LayerNorm(dim)\n",
        "\n",
        "  def forward(self, x, **kwargs):\n",
        "    x = self.norm(x)\n",
        "    return self.fn(x, **kwargs)"
      ],
      "metadata": {
        "id": "9m0vs1VzLmiB"
      },
      "execution_count": 34,
      "outputs": []
    },
    {
      "cell_type": "code",
      "source": [
        "class gMLPVision(nn.Module):\n",
        "  def __init__(\n",
        "      self,\n",
        "      *,\n",
        "      image_size,\n",
        "      patch_size,\n",
        "      num_classes,\n",
        "      dim,\n",
        "      depth,\n",
        "      heads = 1,\n",
        "      ff_mult = 4,\n",
        "      channels = 3,\n",
        "      attn_dim = None,\n",
        "      prob_survival = 1.\n",
        "  ):\n",
        "    super().__init__()\n",
        "    self.name = \"gMLP_w_self_attention\"\n",
        "    assert (dim % heads) == 0, 'dimension must be divisible by number of heads'\n",
        "\n",
        "    image_height, image_width = pair(image_size)\n",
        "    patch_height, patch_width = pair(patch_size)\n",
        "    assert (image_height % patch_height) == 0 and (image_width % patch_width) == 0, 'image height and width must be divisible by patch size'\n",
        "    num_patches = (image_height // patch_height) * (image_width // patch_width)\n",
        "\n",
        "    dim_ff = dim * ff_mult\n",
        "\n",
        "    self.to_patch_embed = nn.Sequential(\n",
        "        Rearrange('b c (h p1) (w p2) -> b (h w) (c p1 p2)', p1 = patch_height, p2 = patch_width),\n",
        "        nn.Linear(channels * patch_height * patch_width, dim)\n",
        "    )\n",
        "\n",
        "    self.prob_survival = prob_survival\n",
        "\n",
        "    self.layers = nn.ModuleList([Residual(PreNorm(dim, gMLPBlock(dim = dim, heads = heads, dim_ff = dim_ff, seq_len = num_patches, attn_dim = attn_dim))) for i in range(depth)])\n",
        "\n",
        "    self.to_logits = nn.Sequential(\n",
        "        nn.LayerNorm(dim),\n",
        "        Reduce('b n d -> b d', 'mean'),\n",
        "        nn.Linear(dim, num_classes)\n",
        "    )\n",
        "\n",
        "  def forward(self, x):\n",
        "    x = self.to_patch_embed(x)\n",
        "    layers = self.layers if not self.training else dropout_layers(self.layers, self.prob_survival)\n",
        "    x = nn.Sequential(*layers)(x)\n",
        "    return self.to_logits(x)\n",
        "\n"
      ],
      "metadata": {
        "id": "C49F4zfD-7ok"
      },
      "execution_count": 35,
      "outputs": []
    },
    {
      "cell_type": "code",
      "source": [
        "model = gMLPVision(\n",
        "    image_size = 32,\n",
        "    patch_size = 4,\n",
        "    num_classes = 10,\n",
        "    dim = 256,\n",
        "    depth = 6,\n",
        "    attn_dim = 1\n",
        ")\n",
        "model = model.cuda()\n",
        "epochs = 25\n",
        "model.name = \"gMLP_w_self_attention\"\n",
        "summary(model, (3, 32, 32), 128)"
      ],
      "metadata": {
        "id": "Ti7GqmnX_s-6",
        "colab": {
          "base_uri": "https://localhost:8080/"
        },
        "outputId": "c99f7059-41fa-41ff-c36c-3ddf2da7c93d"
      },
      "execution_count": 36,
      "outputs": [
        {
          "output_type": "stream",
          "name": "stdout",
          "text": [
            "----------------------------------------------------------------\n",
            "        Layer (type)               Output Shape         Param #\n",
            "================================================================\n",
            "         Rearrange-1              [128, 64, 48]               0\n",
            "            Linear-2             [128, 64, 256]          12,544\n",
            "         LayerNorm-3             [128, 64, 256]             512\n",
            "            Linear-4               [128, 64, 3]             768\n",
            "            Linear-5             [128, 64, 512]           1,024\n",
            "         Attention-6             [128, 64, 512]               0\n",
            "            Linear-7            [128, 64, 1024]         263,168\n",
            "              GELU-8            [128, 64, 1024]               0\n",
            "         LayerNorm-9             [128, 64, 512]           1,024\n",
            "         Identity-10             [128, 64, 512]               0\n",
            "         Identity-11             [128, 64, 512]               0\n",
            "         Identity-12             [128, 64, 512]               0\n",
            "         Identity-13             [128, 64, 512]               0\n",
            "         Identity-14             [128, 64, 512]               0\n",
            "         Identity-15             [128, 64, 512]               0\n",
            "SpatialGatingUnit-16             [128, 64, 512]           4,160\n",
            "           Linear-17             [128, 64, 256]         131,328\n",
            "        gMLPBlock-18             [128, 64, 256]               0\n",
            "          PreNorm-19             [128, 64, 256]               0\n",
            "         Residual-20             [128, 64, 256]               0\n",
            "        LayerNorm-21             [128, 64, 256]             512\n",
            "           Linear-22               [128, 64, 3]             768\n",
            "           Linear-23             [128, 64, 512]           1,024\n",
            "        Attention-24             [128, 64, 512]               0\n",
            "           Linear-25            [128, 64, 1024]         263,168\n",
            "             GELU-26            [128, 64, 1024]               0\n",
            "        LayerNorm-27             [128, 64, 512]           1,024\n",
            "         Identity-28             [128, 64, 512]               0\n",
            "         Identity-29             [128, 64, 512]               0\n",
            "         Identity-30             [128, 64, 512]               0\n",
            "         Identity-31             [128, 64, 512]               0\n",
            "         Identity-32             [128, 64, 512]               0\n",
            "         Identity-33             [128, 64, 512]               0\n",
            "SpatialGatingUnit-34             [128, 64, 512]           4,160\n",
            "           Linear-35             [128, 64, 256]         131,328\n",
            "        gMLPBlock-36             [128, 64, 256]               0\n",
            "          PreNorm-37             [128, 64, 256]               0\n",
            "         Residual-38             [128, 64, 256]               0\n",
            "        LayerNorm-39             [128, 64, 256]             512\n",
            "           Linear-40               [128, 64, 3]             768\n",
            "           Linear-41             [128, 64, 512]           1,024\n",
            "        Attention-42             [128, 64, 512]               0\n",
            "           Linear-43            [128, 64, 1024]         263,168\n",
            "             GELU-44            [128, 64, 1024]               0\n",
            "        LayerNorm-45             [128, 64, 512]           1,024\n",
            "         Identity-46             [128, 64, 512]               0\n",
            "         Identity-47             [128, 64, 512]               0\n",
            "         Identity-48             [128, 64, 512]               0\n",
            "         Identity-49             [128, 64, 512]               0\n",
            "         Identity-50             [128, 64, 512]               0\n",
            "         Identity-51             [128, 64, 512]               0\n",
            "SpatialGatingUnit-52             [128, 64, 512]           4,160\n",
            "           Linear-53             [128, 64, 256]         131,328\n",
            "        gMLPBlock-54             [128, 64, 256]               0\n",
            "          PreNorm-55             [128, 64, 256]               0\n",
            "         Residual-56             [128, 64, 256]               0\n",
            "        LayerNorm-57             [128, 64, 256]             512\n",
            "           Linear-58               [128, 64, 3]             768\n",
            "           Linear-59             [128, 64, 512]           1,024\n",
            "        Attention-60             [128, 64, 512]               0\n",
            "           Linear-61            [128, 64, 1024]         263,168\n",
            "             GELU-62            [128, 64, 1024]               0\n",
            "        LayerNorm-63             [128, 64, 512]           1,024\n",
            "         Identity-64             [128, 64, 512]               0\n",
            "         Identity-65             [128, 64, 512]               0\n",
            "         Identity-66             [128, 64, 512]               0\n",
            "         Identity-67             [128, 64, 512]               0\n",
            "         Identity-68             [128, 64, 512]               0\n",
            "         Identity-69             [128, 64, 512]               0\n",
            "SpatialGatingUnit-70             [128, 64, 512]           4,160\n",
            "           Linear-71             [128, 64, 256]         131,328\n",
            "        gMLPBlock-72             [128, 64, 256]               0\n",
            "          PreNorm-73             [128, 64, 256]               0\n",
            "         Residual-74             [128, 64, 256]               0\n",
            "        LayerNorm-75             [128, 64, 256]             512\n",
            "           Linear-76               [128, 64, 3]             768\n",
            "           Linear-77             [128, 64, 512]           1,024\n",
            "        Attention-78             [128, 64, 512]               0\n",
            "           Linear-79            [128, 64, 1024]         263,168\n",
            "             GELU-80            [128, 64, 1024]               0\n",
            "        LayerNorm-81             [128, 64, 512]           1,024\n",
            "         Identity-82             [128, 64, 512]               0\n",
            "         Identity-83             [128, 64, 512]               0\n",
            "         Identity-84             [128, 64, 512]               0\n",
            "         Identity-85             [128, 64, 512]               0\n",
            "         Identity-86             [128, 64, 512]               0\n",
            "         Identity-87             [128, 64, 512]               0\n",
            "SpatialGatingUnit-88             [128, 64, 512]           4,160\n",
            "           Linear-89             [128, 64, 256]         131,328\n",
            "        gMLPBlock-90             [128, 64, 256]               0\n",
            "          PreNorm-91             [128, 64, 256]               0\n",
            "         Residual-92             [128, 64, 256]               0\n",
            "        LayerNorm-93             [128, 64, 256]             512\n",
            "           Linear-94               [128, 64, 3]             768\n",
            "           Linear-95             [128, 64, 512]           1,024\n",
            "        Attention-96             [128, 64, 512]               0\n",
            "           Linear-97            [128, 64, 1024]         263,168\n",
            "             GELU-98            [128, 64, 1024]               0\n",
            "        LayerNorm-99             [128, 64, 512]           1,024\n",
            "        Identity-100             [128, 64, 512]               0\n",
            "        Identity-101             [128, 64, 512]               0\n",
            "        Identity-102             [128, 64, 512]               0\n",
            "        Identity-103             [128, 64, 512]               0\n",
            "        Identity-104             [128, 64, 512]               0\n",
            "        Identity-105             [128, 64, 512]               0\n",
            "SpatialGatingUnit-106             [128, 64, 512]           4,160\n",
            "          Linear-107             [128, 64, 256]         131,328\n",
            "       gMLPBlock-108             [128, 64, 256]               0\n",
            "         PreNorm-109             [128, 64, 256]               0\n",
            "        Residual-110             [128, 64, 256]               0\n",
            "       LayerNorm-111             [128, 64, 256]             512\n",
            "          Reduce-112                 [128, 256]               0\n",
            "          Linear-113                  [128, 10]           2,570\n",
            "================================================================\n",
            "Total params: 2,427,530\n",
            "Trainable params: 2,427,530\n",
            "Non-trainable params: 0\n",
            "----------------------------------------------------------------\n",
            "Input size (MB): 1.50\n",
            "Forward/backward pass size (MB): 3204.38\n",
            "Params size (MB): 9.26\n",
            "Estimated Total Size (MB): 3215.15\n",
            "----------------------------------------------------------------\n"
          ]
        }
      ]
    },
    {
      "cell_type": "code",
      "source": [
        "train_accs, test_accs = run_model(epochs, model, True)"
      ],
      "metadata": {
        "id": "t329eh3DJqJM",
        "colab": {
          "base_uri": "https://localhost:8080/"
        },
        "outputId": "6d5e2452-ac0c-4567-a88d-b56bd498d10c"
      },
      "execution_count": 37,
      "outputs": [
        {
          "metadata": {
            "tags": null
          },
          "name": "stderr",
          "output_type": "stream",
          "text": [
            "100%|██████████| 391/391 [01:38<00:00,  3.95it/s]\n"
          ]
        },
        {
          "metadata": {
            "tags": null
          },
          "name": "stdout",
          "output_type": "stream",
          "text": [
            "Epoch : 1 - acc: 0.4182 - loss : 1.5917\n",
            "\n"
          ]
        },
        {
          "metadata": {
            "tags": null
          },
          "name": "stderr",
          "output_type": "stream",
          "text": [
            "100%|██████████| 79/79 [00:08<00:00,  9.44it/s]\n"
          ]
        },
        {
          "metadata": {
            "tags": null
          },
          "name": "stdout",
          "output_type": "stream",
          "text": [
            "test acc: 0.5307 - test loss : 1.2741\n",
            "\n"
          ]
        },
        {
          "metadata": {
            "tags": null
          },
          "name": "stderr",
          "output_type": "stream",
          "text": [
            "100%|██████████| 391/391 [01:39<00:00,  3.94it/s]\n"
          ]
        },
        {
          "metadata": {
            "tags": null
          },
          "name": "stdout",
          "output_type": "stream",
          "text": [
            "Epoch : 2 - acc: 0.5840 - loss : 1.1568\n",
            "\n"
          ]
        },
        {
          "metadata": {
            "tags": null
          },
          "name": "stderr",
          "output_type": "stream",
          "text": [
            "100%|██████████| 79/79 [00:08<00:00,  9.43it/s]\n"
          ]
        },
        {
          "metadata": {
            "tags": null
          },
          "name": "stdout",
          "output_type": "stream",
          "text": [
            "test acc: 0.6011 - test loss : 1.0915\n",
            "\n"
          ]
        },
        {
          "metadata": {
            "tags": null
          },
          "name": "stderr",
          "output_type": "stream",
          "text": [
            "100%|██████████| 391/391 [01:38<00:00,  3.96it/s]\n"
          ]
        },
        {
          "metadata": {
            "tags": null
          },
          "name": "stdout",
          "output_type": "stream",
          "text": [
            "Epoch : 3 - acc: 0.6557 - loss : 0.9639\n",
            "\n"
          ]
        },
        {
          "metadata": {
            "tags": null
          },
          "name": "stderr",
          "output_type": "stream",
          "text": [
            "100%|██████████| 79/79 [00:08<00:00,  9.49it/s]\n"
          ]
        },
        {
          "metadata": {
            "tags": null
          },
          "name": "stdout",
          "output_type": "stream",
          "text": [
            "test acc: 0.6567 - test loss : 0.9604\n",
            "\n"
          ]
        },
        {
          "metadata": {
            "tags": null
          },
          "name": "stderr",
          "output_type": "stream",
          "text": [
            "100%|██████████| 391/391 [01:38<00:00,  3.96it/s]\n"
          ]
        },
        {
          "metadata": {
            "tags": null
          },
          "name": "stdout",
          "output_type": "stream",
          "text": [
            "Epoch : 4 - acc: 0.6992 - loss : 0.8449\n",
            "\n"
          ]
        },
        {
          "metadata": {
            "tags": null
          },
          "name": "stderr",
          "output_type": "stream",
          "text": [
            "100%|██████████| 79/79 [00:08<00:00,  9.47it/s]\n"
          ]
        },
        {
          "metadata": {
            "tags": null
          },
          "name": "stdout",
          "output_type": "stream",
          "text": [
            "test acc: 0.6862 - test loss : 0.8940\n",
            "\n"
          ]
        },
        {
          "metadata": {
            "tags": null
          },
          "name": "stderr",
          "output_type": "stream",
          "text": [
            "100%|██████████| 391/391 [01:38<00:00,  3.96it/s]\n"
          ]
        },
        {
          "metadata": {
            "tags": null
          },
          "name": "stdout",
          "output_type": "stream",
          "text": [
            "Epoch : 5 - acc: 0.7414 - loss : 0.7336\n",
            "\n"
          ]
        },
        {
          "metadata": {
            "tags": null
          },
          "name": "stderr",
          "output_type": "stream",
          "text": [
            "100%|██████████| 79/79 [00:08<00:00,  9.48it/s]\n"
          ]
        },
        {
          "metadata": {
            "tags": null
          },
          "name": "stdout",
          "output_type": "stream",
          "text": [
            "test acc: 0.7010 - test loss : 0.8495\n",
            "\n"
          ]
        },
        {
          "metadata": {
            "tags": null
          },
          "name": "stderr",
          "output_type": "stream",
          "text": [
            "100%|██████████| 391/391 [01:39<00:00,  3.94it/s]\n"
          ]
        },
        {
          "metadata": {
            "tags": null
          },
          "name": "stdout",
          "output_type": "stream",
          "text": [
            "Epoch : 6 - acc: 0.7748 - loss : 0.6374\n",
            "\n"
          ]
        },
        {
          "metadata": {
            "tags": null
          },
          "name": "stderr",
          "output_type": "stream",
          "text": [
            "100%|██████████| 79/79 [00:08<00:00,  9.50it/s]\n"
          ]
        },
        {
          "metadata": {
            "tags": null
          },
          "name": "stdout",
          "output_type": "stream",
          "text": [
            "test acc: 0.7123 - test loss : 0.8295\n",
            "\n"
          ]
        },
        {
          "metadata": {
            "tags": null
          },
          "name": "stderr",
          "output_type": "stream",
          "text": [
            "100%|██████████| 391/391 [01:38<00:00,  3.96it/s]\n"
          ]
        },
        {
          "metadata": {
            "tags": null
          },
          "name": "stdout",
          "output_type": "stream",
          "text": [
            "Epoch : 7 - acc: 0.8072 - loss : 0.5430\n",
            "\n"
          ]
        },
        {
          "metadata": {
            "tags": null
          },
          "name": "stderr",
          "output_type": "stream",
          "text": [
            "100%|██████████| 79/79 [00:08<00:00,  9.51it/s]\n"
          ]
        },
        {
          "metadata": {
            "tags": null
          },
          "name": "stdout",
          "output_type": "stream",
          "text": [
            "test acc: 0.7081 - test loss : 0.8559\n",
            "\n"
          ]
        },
        {
          "metadata": {
            "tags": null
          },
          "name": "stderr",
          "output_type": "stream",
          "text": [
            "100%|██████████| 391/391 [01:38<00:00,  3.96it/s]\n"
          ]
        },
        {
          "metadata": {
            "tags": null
          },
          "name": "stdout",
          "output_type": "stream",
          "text": [
            "Epoch : 8 - acc: 0.8435 - loss : 0.4487\n",
            "\n"
          ]
        },
        {
          "metadata": {
            "tags": null
          },
          "name": "stderr",
          "output_type": "stream",
          "text": [
            "100%|██████████| 79/79 [00:08<00:00,  9.41it/s]\n"
          ]
        },
        {
          "metadata": {
            "tags": null
          },
          "name": "stdout",
          "output_type": "stream",
          "text": [
            "test acc: 0.7143 - test loss : 0.8575\n",
            "\n"
          ]
        },
        {
          "metadata": {
            "tags": null
          },
          "name": "stderr",
          "output_type": "stream",
          "text": [
            "100%|██████████| 391/391 [01:38<00:00,  3.96it/s]\n"
          ]
        },
        {
          "metadata": {
            "tags": null
          },
          "name": "stdout",
          "output_type": "stream",
          "text": [
            "Epoch : 9 - acc: 0.8754 - loss : 0.3582\n",
            "\n"
          ]
        },
        {
          "metadata": {
            "tags": null
          },
          "name": "stderr",
          "output_type": "stream",
          "text": [
            "100%|██████████| 79/79 [00:08<00:00,  9.51it/s]\n"
          ]
        },
        {
          "metadata": {
            "tags": null
          },
          "name": "stdout",
          "output_type": "stream",
          "text": [
            "test acc: 0.7163 - test loss : 0.9040\n",
            "\n"
          ]
        },
        {
          "output_type": "stream",
          "name": "stderr",
          "text": [
            "100%|██████████| 391/391 [01:39<00:00,  3.94it/s]\n"
          ]
        },
        {
          "output_type": "stream",
          "name": "stdout",
          "text": [
            "Epoch : 10 - acc: 0.9095 - loss : 0.2675\n",
            "\n"
          ]
        },
        {
          "output_type": "stream",
          "name": "stderr",
          "text": [
            "100%|██████████| 79/79 [00:08<00:00,  9.39it/s]\n"
          ]
        },
        {
          "output_type": "stream",
          "name": "stdout",
          "text": [
            "test acc: 0.7055 - test loss : 1.0036\n",
            "\n"
          ]
        },
        {
          "output_type": "stream",
          "name": "stderr",
          "text": [
            "100%|██████████| 391/391 [01:39<00:00,  3.94it/s]\n"
          ]
        },
        {
          "output_type": "stream",
          "name": "stdout",
          "text": [
            "Epoch : 11 - acc: 0.9352 - loss : 0.1904\n",
            "\n"
          ]
        },
        {
          "output_type": "stream",
          "name": "stderr",
          "text": [
            "100%|██████████| 79/79 [00:08<00:00,  9.33it/s]\n"
          ]
        },
        {
          "output_type": "stream",
          "name": "stdout",
          "text": [
            "test acc: 0.7094 - test loss : 1.1008\n",
            "\n"
          ]
        },
        {
          "output_type": "stream",
          "name": "stderr",
          "text": [
            "100%|██████████| 391/391 [01:39<00:00,  3.94it/s]\n"
          ]
        },
        {
          "output_type": "stream",
          "name": "stdout",
          "text": [
            "Epoch : 12 - acc: 0.9532 - loss : 0.1395\n",
            "\n"
          ]
        },
        {
          "output_type": "stream",
          "name": "stderr",
          "text": [
            "100%|██████████| 79/79 [00:08<00:00,  9.37it/s]\n"
          ]
        },
        {
          "output_type": "stream",
          "name": "stdout",
          "text": [
            "test acc: 0.7113 - test loss : 1.1693\n",
            "\n"
          ]
        },
        {
          "output_type": "stream",
          "name": "stderr",
          "text": [
            "100%|██████████| 391/391 [01:39<00:00,  3.94it/s]\n"
          ]
        },
        {
          "output_type": "stream",
          "name": "stdout",
          "text": [
            "Epoch : 13 - acc: 0.9647 - loss : 0.1067\n",
            "\n"
          ]
        },
        {
          "output_type": "stream",
          "name": "stderr",
          "text": [
            "100%|██████████| 79/79 [00:08<00:00,  9.33it/s]\n"
          ]
        },
        {
          "output_type": "stream",
          "name": "stdout",
          "text": [
            "test acc: 0.7123 - test loss : 1.2783\n",
            "\n"
          ]
        },
        {
          "output_type": "stream",
          "name": "stderr",
          "text": [
            "100%|██████████| 391/391 [01:39<00:00,  3.93it/s]\n"
          ]
        },
        {
          "output_type": "stream",
          "name": "stdout",
          "text": [
            "Epoch : 14 - acc: 0.9759 - loss : 0.0738\n",
            "\n"
          ]
        },
        {
          "output_type": "stream",
          "name": "stderr",
          "text": [
            "100%|██████████| 79/79 [00:08<00:00,  9.35it/s]\n"
          ]
        },
        {
          "output_type": "stream",
          "name": "stdout",
          "text": [
            "test acc: 0.7032 - test loss : 1.3734\n",
            "\n"
          ]
        },
        {
          "output_type": "stream",
          "name": "stderr",
          "text": [
            "100%|██████████| 391/391 [01:39<00:00,  3.94it/s]\n"
          ]
        },
        {
          "output_type": "stream",
          "name": "stdout",
          "text": [
            "Epoch : 15 - acc: 0.9779 - loss : 0.0657\n",
            "\n"
          ]
        },
        {
          "output_type": "stream",
          "name": "stderr",
          "text": [
            "100%|██████████| 79/79 [00:08<00:00,  9.31it/s]\n"
          ]
        },
        {
          "output_type": "stream",
          "name": "stdout",
          "text": [
            "test acc: 0.7086 - test loss : 1.4307\n",
            "\n"
          ]
        },
        {
          "output_type": "stream",
          "name": "stderr",
          "text": [
            "100%|██████████| 391/391 [01:39<00:00,  3.94it/s]\n"
          ]
        },
        {
          "output_type": "stream",
          "name": "stdout",
          "text": [
            "Epoch : 16 - acc: 0.9753 - loss : 0.0730\n",
            "\n"
          ]
        },
        {
          "output_type": "stream",
          "name": "stderr",
          "text": [
            "100%|██████████| 79/79 [00:08<00:00,  9.33it/s]\n"
          ]
        },
        {
          "output_type": "stream",
          "name": "stdout",
          "text": [
            "test acc: 0.7023 - test loss : 1.4776\n",
            "\n"
          ]
        },
        {
          "output_type": "stream",
          "name": "stderr",
          "text": [
            "100%|██████████| 391/391 [01:39<00:00,  3.94it/s]\n"
          ]
        },
        {
          "output_type": "stream",
          "name": "stdout",
          "text": [
            "Epoch : 17 - acc: 0.9813 - loss : 0.0578\n",
            "\n"
          ]
        },
        {
          "output_type": "stream",
          "name": "stderr",
          "text": [
            "100%|██████████| 79/79 [00:08<00:00,  9.32it/s]\n"
          ]
        },
        {
          "output_type": "stream",
          "name": "stdout",
          "text": [
            "test acc: 0.7123 - test loss : 1.4932\n",
            "\n"
          ]
        },
        {
          "output_type": "stream",
          "name": "stderr",
          "text": [
            "100%|██████████| 391/391 [01:39<00:00,  3.92it/s]\n"
          ]
        },
        {
          "output_type": "stream",
          "name": "stdout",
          "text": [
            "Epoch : 18 - acc: 0.9869 - loss : 0.0389\n",
            "\n"
          ]
        },
        {
          "output_type": "stream",
          "name": "stderr",
          "text": [
            "100%|██████████| 79/79 [00:08<00:00,  9.35it/s]\n"
          ]
        },
        {
          "output_type": "stream",
          "name": "stdout",
          "text": [
            "test acc: 0.7062 - test loss : 1.5828\n",
            "\n"
          ]
        },
        {
          "output_type": "stream",
          "name": "stderr",
          "text": [
            "100%|██████████| 391/391 [01:39<00:00,  3.93it/s]\n"
          ]
        },
        {
          "output_type": "stream",
          "name": "stdout",
          "text": [
            "Epoch : 19 - acc: 0.9858 - loss : 0.0430\n",
            "\n"
          ]
        },
        {
          "output_type": "stream",
          "name": "stderr",
          "text": [
            "100%|██████████| 79/79 [00:08<00:00,  9.30it/s]\n"
          ]
        },
        {
          "output_type": "stream",
          "name": "stdout",
          "text": [
            "test acc: 0.7084 - test loss : 1.5803\n",
            "\n"
          ]
        },
        {
          "output_type": "stream",
          "name": "stderr",
          "text": [
            "100%|██████████| 391/391 [01:39<00:00,  3.95it/s]\n"
          ]
        },
        {
          "output_type": "stream",
          "name": "stdout",
          "text": [
            "Epoch : 20 - acc: 0.9818 - loss : 0.0542\n",
            "\n"
          ]
        },
        {
          "output_type": "stream",
          "name": "stderr",
          "text": [
            "100%|██████████| 79/79 [00:08<00:00,  9.44it/s]\n"
          ]
        },
        {
          "output_type": "stream",
          "name": "stdout",
          "text": [
            "test acc: 0.7109 - test loss : 1.5949\n",
            "\n"
          ]
        },
        {
          "output_type": "stream",
          "name": "stderr",
          "text": [
            "100%|██████████| 391/391 [01:39<00:00,  3.94it/s]\n"
          ]
        },
        {
          "output_type": "stream",
          "name": "stdout",
          "text": [
            "Epoch : 21 - acc: 0.9873 - loss : 0.0373\n",
            "\n"
          ]
        },
        {
          "output_type": "stream",
          "name": "stderr",
          "text": [
            "100%|██████████| 79/79 [00:08<00:00,  9.36it/s]\n"
          ]
        },
        {
          "output_type": "stream",
          "name": "stdout",
          "text": [
            "test acc: 0.7081 - test loss : 1.6499\n",
            "\n"
          ]
        },
        {
          "output_type": "stream",
          "name": "stderr",
          "text": [
            "100%|██████████| 391/391 [01:39<00:00,  3.93it/s]\n"
          ]
        },
        {
          "output_type": "stream",
          "name": "stdout",
          "text": [
            "Epoch : 22 - acc: 0.9875 - loss : 0.0376\n",
            "\n"
          ]
        },
        {
          "output_type": "stream",
          "name": "stderr",
          "text": [
            "100%|██████████| 79/79 [00:08<00:00,  9.36it/s]\n"
          ]
        },
        {
          "output_type": "stream",
          "name": "stdout",
          "text": [
            "test acc: 0.7091 - test loss : 1.6783\n",
            "\n"
          ]
        },
        {
          "output_type": "stream",
          "name": "stderr",
          "text": [
            "100%|██████████| 391/391 [01:38<00:00,  3.95it/s]\n"
          ]
        },
        {
          "output_type": "stream",
          "name": "stdout",
          "text": [
            "Epoch : 23 - acc: 0.9863 - loss : 0.0417\n",
            "\n"
          ]
        },
        {
          "output_type": "stream",
          "name": "stderr",
          "text": [
            "100%|██████████| 79/79 [00:08<00:00,  9.39it/s]\n"
          ]
        },
        {
          "output_type": "stream",
          "name": "stdout",
          "text": [
            "test acc: 0.7072 - test loss : 1.6821\n",
            "\n"
          ]
        },
        {
          "output_type": "stream",
          "name": "stderr",
          "text": [
            "100%|██████████| 391/391 [01:39<00:00,  3.95it/s]\n"
          ]
        },
        {
          "output_type": "stream",
          "name": "stdout",
          "text": [
            "Epoch : 24 - acc: 0.9851 - loss : 0.0434\n",
            "\n"
          ]
        },
        {
          "output_type": "stream",
          "name": "stderr",
          "text": [
            "100%|██████████| 79/79 [00:08<00:00,  9.34it/s]\n"
          ]
        },
        {
          "output_type": "stream",
          "name": "stdout",
          "text": [
            "test acc: 0.7081 - test loss : 1.6501\n",
            "\n"
          ]
        },
        {
          "output_type": "stream",
          "name": "stderr",
          "text": [
            "100%|██████████| 391/391 [01:39<00:00,  3.95it/s]\n"
          ]
        },
        {
          "output_type": "stream",
          "name": "stdout",
          "text": [
            "Epoch : 25 - acc: 0.9908 - loss : 0.0281\n",
            "\n"
          ]
        },
        {
          "output_type": "stream",
          "name": "stderr",
          "text": [
            "100%|██████████| 79/79 [00:08<00:00,  9.40it/s]\n"
          ]
        },
        {
          "output_type": "stream",
          "name": "stdout",
          "text": [
            "test acc: 0.7085 - test loss : 1.7369\n",
            "\n"
          ]
        }
      ]
    },
    {
      "cell_type": "code",
      "source": [
        "print_performance_graph(epochs, model.name, train_accs, test_accs)"
      ],
      "metadata": {
        "id": "PukeFqtXCx3G",
        "colab": {
          "base_uri": "https://localhost:8080/",
          "height": 376
        },
        "outputId": "df3f8cbb-31a2-40e3-a43c-3fa02d32f1a8"
      },
      "execution_count": 38,
      "outputs": [
        {
          "output_type": "display_data",
          "data": {
            "text/plain": [
              "<Figure size 576x396 with 1 Axes>"
            ],
            "image/png": "[encoded data removed]"
          },
          "metadata": {}
        }
      ]
    },
    {
      "cell_type": "code",
      "source": [
        "model = gMLPVision(\n",
        "    image_size = 32,\n",
        "    patch_size = 4,\n",
        "    num_classes = 10,\n",
        "    dim = 256,\n",
        "    depth = 6,\n",
        "    attn_dim = 64\n",
        ")\n",
        "model = model.cuda()\n",
        "epochs = 25\n",
        "model.name = \"gMLP_w_self_attention_64\"\n",
        "summary(model, (3, 32, 32), 128)"
      ],
      "metadata": {
        "id": "GJ7LP6Zq5Tjx",
        "colab": {
          "base_uri": "https://localhost:8080/"
        },
        "outputId": "8bc9309e-94a3-4097-afe7-8f7633633619"
      },
      "execution_count": 39,
      "outputs": [
        {
          "output_type": "stream",
          "name": "stdout",
          "text": [
            "----------------------------------------------------------------\n",
            "        Layer (type)               Output Shape         Param #\n",
            "================================================================\n",
            "         Rearrange-1              [128, 64, 48]               0\n",
            "            Linear-2             [128, 64, 256]          12,544\n",
            "         LayerNorm-3             [128, 64, 256]             512\n",
            "            Linear-4             [128, 64, 192]          49,152\n",
            "            Linear-5             [128, 64, 512]          33,280\n",
            "         Attention-6             [128, 64, 512]               0\n",
            "            Linear-7            [128, 64, 1024]         263,168\n",
            "              GELU-8            [128, 64, 1024]               0\n",
            "         LayerNorm-9             [128, 64, 512]           1,024\n",
            "         Identity-10             [128, 64, 512]               0\n",
            "         Identity-11             [128, 64, 512]               0\n",
            "         Identity-12             [128, 64, 512]               0\n",
            "         Identity-13             [128, 64, 512]               0\n",
            "         Identity-14             [128, 64, 512]               0\n",
            "         Identity-15             [128, 64, 512]               0\n",
            "SpatialGatingUnit-16             [128, 64, 512]           4,160\n",
            "           Linear-17             [128, 64, 256]         131,328\n",
            "        gMLPBlock-18             [128, 64, 256]               0\n",
            "          PreNorm-19             [128, 64, 256]               0\n",
            "         Residual-20             [128, 64, 256]               0\n",
            "        LayerNorm-21             [128, 64, 256]             512\n",
            "           Linear-22             [128, 64, 192]          49,152\n",
            "           Linear-23             [128, 64, 512]          33,280\n",
            "        Attention-24             [128, 64, 512]               0\n",
            "           Linear-25            [128, 64, 1024]         263,168\n",
            "             GELU-26            [128, 64, 1024]               0\n",
            "        LayerNorm-27             [128, 64, 512]           1,024\n",
            "         Identity-28             [128, 64, 512]               0\n",
            "         Identity-29             [128, 64, 512]               0\n",
            "         Identity-30             [128, 64, 512]               0\n",
            "         Identity-31             [128, 64, 512]               0\n",
            "         Identity-32             [128, 64, 512]               0\n",
            "         Identity-33             [128, 64, 512]               0\n",
            "SpatialGatingUnit-34             [128, 64, 512]           4,160\n",
            "           Linear-35             [128, 64, 256]         131,328\n",
            "        gMLPBlock-36             [128, 64, 256]               0\n",
            "          PreNorm-37             [128, 64, 256]               0\n",
            "         Residual-38             [128, 64, 256]               0\n",
            "        LayerNorm-39             [128, 64, 256]             512\n",
            "           Linear-40             [128, 64, 192]          49,152\n",
            "           Linear-41             [128, 64, 512]          33,280\n",
            "        Attention-42             [128, 64, 512]               0\n",
            "           Linear-43            [128, 64, 1024]         263,168\n",
            "             GELU-44            [128, 64, 1024]               0\n",
            "        LayerNorm-45             [128, 64, 512]           1,024\n",
            "         Identity-46             [128, 64, 512]               0\n",
            "         Identity-47             [128, 64, 512]               0\n",
            "         Identity-48             [128, 64, 512]               0\n",
            "         Identity-49             [128, 64, 512]               0\n",
            "         Identity-50             [128, 64, 512]               0\n",
            "         Identity-51             [128, 64, 512]               0\n",
            "SpatialGatingUnit-52             [128, 64, 512]           4,160\n",
            "           Linear-53             [128, 64, 256]         131,328\n",
            "        gMLPBlock-54             [128, 64, 256]               0\n",
            "          PreNorm-55             [128, 64, 256]               0\n",
            "         Residual-56             [128, 64, 256]               0\n",
            "        LayerNorm-57             [128, 64, 256]             512\n",
            "           Linear-58             [128, 64, 192]          49,152\n",
            "           Linear-59             [128, 64, 512]          33,280\n",
            "        Attention-60             [128, 64, 512]               0\n",
            "           Linear-61            [128, 64, 1024]         263,168\n",
            "             GELU-62            [128, 64, 1024]               0\n",
            "        LayerNorm-63             [128, 64, 512]           1,024\n",
            "         Identity-64             [128, 64, 512]               0\n",
            "         Identity-65             [128, 64, 512]               0\n",
            "         Identity-66             [128, 64, 512]               0\n",
            "         Identity-67             [128, 64, 512]               0\n",
            "         Identity-68             [128, 64, 512]               0\n",
            "         Identity-69             [128, 64, 512]               0\n",
            "SpatialGatingUnit-70             [128, 64, 512]           4,160\n",
            "           Linear-71             [128, 64, 256]         131,328\n",
            "        gMLPBlock-72             [128, 64, 256]               0\n",
            "          PreNorm-73             [128, 64, 256]               0\n",
            "         Residual-74             [128, 64, 256]               0\n",
            "        LayerNorm-75             [128, 64, 256]             512\n",
            "           Linear-76             [128, 64, 192]          49,152\n",
            "           Linear-77             [128, 64, 512]          33,280\n",
            "        Attention-78             [128, 64, 512]               0\n",
            "           Linear-79            [128, 64, 1024]         263,168\n",
            "             GELU-80            [128, 64, 1024]               0\n",
            "        LayerNorm-81             [128, 64, 512]           1,024\n",
            "         Identity-82             [128, 64, 512]               0\n",
            "         Identity-83             [128, 64, 512]               0\n",
            "         Identity-84             [128, 64, 512]               0\n",
            "         Identity-85             [128, 64, 512]               0\n",
            "         Identity-86             [128, 64, 512]               0\n",
            "         Identity-87             [128, 64, 512]               0\n",
            "SpatialGatingUnit-88             [128, 64, 512]           4,160\n",
            "           Linear-89             [128, 64, 256]         131,328\n",
            "        gMLPBlock-90             [128, 64, 256]               0\n",
            "          PreNorm-91             [128, 64, 256]               0\n",
            "         Residual-92             [128, 64, 256]               0\n",
            "        LayerNorm-93             [128, 64, 256]             512\n",
            "           Linear-94             [128, 64, 192]          49,152\n",
            "           Linear-95             [128, 64, 512]          33,280\n",
            "        Attention-96             [128, 64, 512]               0\n",
            "           Linear-97            [128, 64, 1024]         263,168\n",
            "             GELU-98            [128, 64, 1024]               0\n",
            "        LayerNorm-99             [128, 64, 512]           1,024\n",
            "        Identity-100             [128, 64, 512]               0\n",
            "        Identity-101             [128, 64, 512]               0\n",
            "        Identity-102             [128, 64, 512]               0\n",
            "        Identity-103             [128, 64, 512]               0\n",
            "        Identity-104             [128, 64, 512]               0\n",
            "        Identity-105             [128, 64, 512]               0\n",
            "SpatialGatingUnit-106             [128, 64, 512]           4,160\n",
            "          Linear-107             [128, 64, 256]         131,328\n",
            "       gMLPBlock-108             [128, 64, 256]               0\n",
            "         PreNorm-109             [128, 64, 256]               0\n",
            "        Residual-110             [128, 64, 256]               0\n",
            "       LayerNorm-111             [128, 64, 256]             512\n",
            "          Reduce-112                 [128, 256]               0\n",
            "          Linear-113                  [128, 10]           2,570\n",
            "================================================================\n",
            "Total params: 2,911,370\n",
            "Trainable params: 2,911,370\n",
            "Non-trainable params: 0\n",
            "----------------------------------------------------------------\n",
            "Input size (MB): 1.50\n",
            "Forward/backward pass size (MB): 3275.26\n",
            "Params size (MB): 11.11\n",
            "Estimated Total Size (MB): 3287.87\n",
            "----------------------------------------------------------------\n"
          ]
        }
      ]
    },
    {
      "cell_type": "code",
      "source": [
        "train_accs, test_accs = run_model(epochs, model, False)"
      ],
      "metadata": {
        "colab": {
          "base_uri": "https://localhost:8080/"
        },
        "id": "TxB3_ycs5JAi",
        "outputId": "d3992b77-92ed-4cfd-cfa1-d8e208252272"
      },
      "execution_count": 40,
      "outputs": [
        {
          "output_type": "stream",
          "name": "stderr",
          "text": [
            "100%|██████████| 391/391 [01:49<00:00,  3.58it/s]\n"
          ]
        },
        {
          "output_type": "stream",
          "name": "stdout",
          "text": [
            "Epoch : 1 - acc: 0.4184 - loss : 1.5880\n",
            "\n"
          ]
        },
        {
          "output_type": "stream",
          "name": "stderr",
          "text": [
            "100%|██████████| 79/79 [00:08<00:00,  8.81it/s]\n"
          ]
        },
        {
          "output_type": "stream",
          "name": "stdout",
          "text": [
            "test acc: 0.5279 - test loss : 1.2915\n",
            "\n"
          ]
        },
        {
          "output_type": "stream",
          "name": "stderr",
          "text": [
            "100%|██████████| 391/391 [01:50<00:00,  3.55it/s]\n"
          ]
        },
        {
          "output_type": "stream",
          "name": "stdout",
          "text": [
            "Epoch : 2 - acc: 0.5824 - loss : 1.1590\n",
            "\n"
          ]
        },
        {
          "output_type": "stream",
          "name": "stderr",
          "text": [
            "100%|██████████| 79/79 [00:08<00:00,  8.81it/s]\n"
          ]
        },
        {
          "output_type": "stream",
          "name": "stdout",
          "text": [
            "test acc: 0.6107 - test loss : 1.0606\n",
            "\n"
          ]
        },
        {
          "output_type": "stream",
          "name": "stderr",
          "text": [
            "100%|██████████| 391/391 [01:49<00:00,  3.58it/s]\n"
          ]
        },
        {
          "output_type": "stream",
          "name": "stdout",
          "text": [
            "Epoch : 3 - acc: 0.6616 - loss : 0.9456\n",
            "\n"
          ]
        },
        {
          "output_type": "stream",
          "name": "stderr",
          "text": [
            "100%|██████████| 79/79 [00:08<00:00,  8.91it/s]\n"
          ]
        },
        {
          "output_type": "stream",
          "name": "stdout",
          "text": [
            "test acc: 0.6567 - test loss : 0.9540\n",
            "\n"
          ]
        },
        {
          "output_type": "stream",
          "name": "stderr",
          "text": [
            "100%|██████████| 391/391 [01:49<00:00,  3.58it/s]\n"
          ]
        },
        {
          "output_type": "stream",
          "name": "stdout",
          "text": [
            "Epoch : 4 - acc: 0.7155 - loss : 0.8041\n",
            "\n"
          ]
        },
        {
          "output_type": "stream",
          "name": "stderr",
          "text": [
            "100%|██████████| 79/79 [00:08<00:00,  8.90it/s]\n"
          ]
        },
        {
          "output_type": "stream",
          "name": "stdout",
          "text": [
            "test acc: 0.6855 - test loss : 0.8760\n",
            "\n"
          ]
        },
        {
          "output_type": "stream",
          "name": "stderr",
          "text": [
            "100%|██████████| 391/391 [01:48<00:00,  3.60it/s]\n"
          ]
        },
        {
          "output_type": "stream",
          "name": "stdout",
          "text": [
            "Epoch : 5 - acc: 0.7543 - loss : 0.6913\n",
            "\n"
          ]
        },
        {
          "output_type": "stream",
          "name": "stderr",
          "text": [
            "100%|██████████| 79/79 [00:08<00:00,  8.88it/s]\n"
          ]
        },
        {
          "output_type": "stream",
          "name": "stdout",
          "text": [
            "test acc: 0.6930 - test loss : 0.8552\n",
            "\n"
          ]
        },
        {
          "output_type": "stream",
          "name": "stderr",
          "text": [
            "100%|██████████| 391/391 [01:48<00:00,  3.59it/s]\n"
          ]
        },
        {
          "output_type": "stream",
          "name": "stdout",
          "text": [
            "Epoch : 6 - acc: 0.7925 - loss : 0.5890\n",
            "\n"
          ]
        },
        {
          "output_type": "stream",
          "name": "stderr",
          "text": [
            "100%|██████████| 79/79 [00:08<00:00,  8.92it/s]\n"
          ]
        },
        {
          "output_type": "stream",
          "name": "stdout",
          "text": [
            "test acc: 0.7187 - test loss : 0.8131\n",
            "\n"
          ]
        },
        {
          "output_type": "stream",
          "name": "stderr",
          "text": [
            "100%|██████████| 391/391 [01:48<00:00,  3.60it/s]\n"
          ]
        },
        {
          "output_type": "stream",
          "name": "stdout",
          "text": [
            "Epoch : 7 - acc: 0.8327 - loss : 0.4763\n",
            "\n"
          ]
        },
        {
          "output_type": "stream",
          "name": "stderr",
          "text": [
            "100%|██████████| 79/79 [00:08<00:00,  8.87it/s]\n"
          ]
        },
        {
          "output_type": "stream",
          "name": "stdout",
          "text": [
            "test acc: 0.7139 - test loss : 0.8520\n",
            "\n"
          ]
        },
        {
          "output_type": "stream",
          "name": "stderr",
          "text": [
            "100%|██████████| 391/391 [01:48<00:00,  3.61it/s]\n"
          ]
        },
        {
          "output_type": "stream",
          "name": "stdout",
          "text": [
            "Epoch : 8 - acc: 0.8735 - loss : 0.3630\n",
            "\n"
          ]
        },
        {
          "output_type": "stream",
          "name": "stderr",
          "text": [
            "100%|██████████| 79/79 [00:08<00:00,  8.92it/s]\n"
          ]
        },
        {
          "output_type": "stream",
          "name": "stdout",
          "text": [
            "test acc: 0.7106 - test loss : 0.9048\n",
            "\n"
          ]
        },
        {
          "output_type": "stream",
          "name": "stderr",
          "text": [
            "100%|██████████| 391/391 [01:48<00:00,  3.61it/s]\n"
          ]
        },
        {
          "output_type": "stream",
          "name": "stdout",
          "text": [
            "Epoch : 9 - acc: 0.9100 - loss : 0.2643\n",
            "\n"
          ]
        },
        {
          "output_type": "stream",
          "name": "stderr",
          "text": [
            "100%|██████████| 79/79 [00:08<00:00,  8.92it/s]\n"
          ]
        },
        {
          "output_type": "stream",
          "name": "stdout",
          "text": [
            "test acc: 0.7099 - test loss : 1.0008\n",
            "\n"
          ]
        },
        {
          "output_type": "stream",
          "name": "stderr",
          "text": [
            "100%|██████████| 391/391 [01:48<00:00,  3.59it/s]\n"
          ]
        },
        {
          "output_type": "stream",
          "name": "stdout",
          "text": [
            "Epoch : 10 - acc: 0.9390 - loss : 0.1802\n",
            "\n"
          ]
        },
        {
          "output_type": "stream",
          "name": "stderr",
          "text": [
            "100%|██████████| 79/79 [00:08<00:00,  8.92it/s]\n"
          ]
        },
        {
          "output_type": "stream",
          "name": "stdout",
          "text": [
            "test acc: 0.7123 - test loss : 1.0874\n",
            "\n"
          ]
        },
        {
          "output_type": "stream",
          "name": "stderr",
          "text": [
            "100%|██████████| 391/391 [01:48<00:00,  3.61it/s]\n"
          ]
        },
        {
          "output_type": "stream",
          "name": "stdout",
          "text": [
            "Epoch : 11 - acc: 0.9563 - loss : 0.1301\n",
            "\n"
          ]
        },
        {
          "output_type": "stream",
          "name": "stderr",
          "text": [
            "100%|██████████| 79/79 [00:08<00:00,  8.88it/s]\n"
          ]
        },
        {
          "output_type": "stream",
          "name": "stdout",
          "text": [
            "test acc: 0.7015 - test loss : 1.2105\n",
            "\n"
          ]
        },
        {
          "output_type": "stream",
          "name": "stderr",
          "text": [
            "100%|██████████| 391/391 [01:48<00:00,  3.61it/s]\n"
          ]
        },
        {
          "output_type": "stream",
          "name": "stdout",
          "text": [
            "Epoch : 12 - acc: 0.9713 - loss : 0.0885\n",
            "\n"
          ]
        },
        {
          "output_type": "stream",
          "name": "stderr",
          "text": [
            "100%|██████████| 79/79 [00:08<00:00,  8.97it/s]\n"
          ]
        },
        {
          "output_type": "stream",
          "name": "stdout",
          "text": [
            "test acc: 0.7088 - test loss : 1.2458\n",
            "\n"
          ]
        },
        {
          "output_type": "stream",
          "name": "stderr",
          "text": [
            "100%|██████████| 391/391 [01:48<00:00,  3.61it/s]\n"
          ]
        },
        {
          "output_type": "stream",
          "name": "stdout",
          "text": [
            "Epoch : 13 - acc: 0.9733 - loss : 0.0795\n",
            "\n"
          ]
        },
        {
          "output_type": "stream",
          "name": "stderr",
          "text": [
            "100%|██████████| 79/79 [00:08<00:00,  8.90it/s]\n"
          ]
        },
        {
          "output_type": "stream",
          "name": "stdout",
          "text": [
            "test acc: 0.6942 - test loss : 1.3583\n",
            "\n"
          ]
        },
        {
          "output_type": "stream",
          "name": "stderr",
          "text": [
            "100%|██████████| 391/391 [01:48<00:00,  3.59it/s]\n"
          ]
        },
        {
          "output_type": "stream",
          "name": "stdout",
          "text": [
            "Epoch : 14 - acc: 0.9759 - loss : 0.0727\n",
            "\n"
          ]
        },
        {
          "output_type": "stream",
          "name": "stderr",
          "text": [
            "100%|██████████| 79/79 [00:08<00:00,  8.97it/s]\n"
          ]
        },
        {
          "output_type": "stream",
          "name": "stdout",
          "text": [
            "test acc: 0.7144 - test loss : 1.3889\n",
            "\n"
          ]
        },
        {
          "output_type": "stream",
          "name": "stderr",
          "text": [
            "100%|██████████| 391/391 [01:48<00:00,  3.61it/s]\n"
          ]
        },
        {
          "output_type": "stream",
          "name": "stdout",
          "text": [
            "Epoch : 15 - acc: 0.9837 - loss : 0.0508\n",
            "\n"
          ]
        },
        {
          "output_type": "stream",
          "name": "stderr",
          "text": [
            "100%|██████████| 79/79 [00:08<00:00,  8.91it/s]\n"
          ]
        },
        {
          "output_type": "stream",
          "name": "stdout",
          "text": [
            "test acc: 0.7082 - test loss : 1.4905\n",
            "\n"
          ]
        },
        {
          "output_type": "stream",
          "name": "stderr",
          "text": [
            "100%|██████████| 391/391 [01:48<00:00,  3.61it/s]\n"
          ]
        },
        {
          "output_type": "stream",
          "name": "stdout",
          "text": [
            "Epoch : 16 - acc: 0.9813 - loss : 0.0561\n",
            "\n"
          ]
        },
        {
          "output_type": "stream",
          "name": "stderr",
          "text": [
            "100%|██████████| 79/79 [00:08<00:00,  8.96it/s]\n"
          ]
        },
        {
          "output_type": "stream",
          "name": "stdout",
          "text": [
            "test acc: 0.6960 - test loss : 1.5196\n",
            "\n"
          ]
        },
        {
          "output_type": "stream",
          "name": "stderr",
          "text": [
            "100%|██████████| 391/391 [01:48<00:00,  3.62it/s]\n"
          ]
        },
        {
          "output_type": "stream",
          "name": "stdout",
          "text": [
            "Epoch : 17 - acc: 0.9838 - loss : 0.0472\n",
            "\n"
          ]
        },
        {
          "output_type": "stream",
          "name": "stderr",
          "text": [
            "100%|██████████| 79/79 [00:08<00:00,  8.99it/s]\n"
          ]
        },
        {
          "output_type": "stream",
          "name": "stdout",
          "text": [
            "test acc: 0.7081 - test loss : 1.5270\n",
            "\n"
          ]
        },
        {
          "output_type": "stream",
          "name": "stderr",
          "text": [
            "100%|██████████| 391/391 [01:48<00:00,  3.59it/s]\n"
          ]
        },
        {
          "output_type": "stream",
          "name": "stdout",
          "text": [
            "Epoch : 18 - acc: 0.9832 - loss : 0.0512\n",
            "\n"
          ]
        },
        {
          "output_type": "stream",
          "name": "stderr",
          "text": [
            "100%|██████████| 79/79 [00:08<00:00,  8.95it/s]\n"
          ]
        },
        {
          "output_type": "stream",
          "name": "stdout",
          "text": [
            "test acc: 0.7115 - test loss : 1.5351\n",
            "\n"
          ]
        },
        {
          "output_type": "stream",
          "name": "stderr",
          "text": [
            "100%|██████████| 391/391 [01:48<00:00,  3.61it/s]\n"
          ]
        },
        {
          "output_type": "stream",
          "name": "stdout",
          "text": [
            "Epoch : 19 - acc: 0.9875 - loss : 0.0393\n",
            "\n"
          ]
        },
        {
          "output_type": "stream",
          "name": "stderr",
          "text": [
            "100%|██████████| 79/79 [00:08<00:00,  8.97it/s]\n"
          ]
        },
        {
          "output_type": "stream",
          "name": "stdout",
          "text": [
            "test acc: 0.7074 - test loss : 1.5715\n",
            "\n"
          ]
        },
        {
          "output_type": "stream",
          "name": "stderr",
          "text": [
            "100%|██████████| 391/391 [01:48<00:00,  3.60it/s]\n"
          ]
        },
        {
          "output_type": "stream",
          "name": "stdout",
          "text": [
            "Epoch : 20 - acc: 0.9823 - loss : 0.0505\n",
            "\n"
          ]
        },
        {
          "output_type": "stream",
          "name": "stderr",
          "text": [
            "100%|██████████| 79/79 [00:08<00:00,  8.97it/s]\n"
          ]
        },
        {
          "output_type": "stream",
          "name": "stdout",
          "text": [
            "test acc: 0.7053 - test loss : 1.5325\n",
            "\n"
          ]
        },
        {
          "output_type": "stream",
          "name": "stderr",
          "text": [
            "100%|██████████| 391/391 [01:48<00:00,  3.60it/s]\n"
          ]
        },
        {
          "output_type": "stream",
          "name": "stdout",
          "text": [
            "Epoch : 21 - acc: 0.9860 - loss : 0.0405\n",
            "\n"
          ]
        },
        {
          "output_type": "stream",
          "name": "stderr",
          "text": [
            "100%|██████████| 79/79 [00:08<00:00,  8.93it/s]\n"
          ]
        },
        {
          "output_type": "stream",
          "name": "stdout",
          "text": [
            "test acc: 0.7060 - test loss : 1.5853\n",
            "\n"
          ]
        },
        {
          "output_type": "stream",
          "name": "stderr",
          "text": [
            "100%|██████████| 391/391 [01:48<00:00,  3.59it/s]\n"
          ]
        },
        {
          "output_type": "stream",
          "name": "stdout",
          "text": [
            "Epoch : 22 - acc: 0.9893 - loss : 0.0319\n",
            "\n"
          ]
        },
        {
          "output_type": "stream",
          "name": "stderr",
          "text": [
            "100%|██████████| 79/79 [00:08<00:00,  8.91it/s]\n"
          ]
        },
        {
          "output_type": "stream",
          "name": "stdout",
          "text": [
            "test acc: 0.6999 - test loss : 1.7488\n",
            "\n"
          ]
        },
        {
          "output_type": "stream",
          "name": "stderr",
          "text": [
            "100%|██████████| 391/391 [01:48<00:00,  3.60it/s]\n"
          ]
        },
        {
          "output_type": "stream",
          "name": "stdout",
          "text": [
            "Epoch : 23 - acc: 0.9851 - loss : 0.0435\n",
            "\n"
          ]
        },
        {
          "output_type": "stream",
          "name": "stderr",
          "text": [
            "100%|██████████| 79/79 [00:08<00:00,  8.96it/s]\n"
          ]
        },
        {
          "output_type": "stream",
          "name": "stdout",
          "text": [
            "test acc: 0.7016 - test loss : 1.6775\n",
            "\n"
          ]
        },
        {
          "output_type": "stream",
          "name": "stderr",
          "text": [
            "100%|██████████| 391/391 [01:48<00:00,  3.60it/s]\n"
          ]
        },
        {
          "output_type": "stream",
          "name": "stdout",
          "text": [
            "Epoch : 24 - acc: 0.9887 - loss : 0.0322\n",
            "\n"
          ]
        },
        {
          "output_type": "stream",
          "name": "stderr",
          "text": [
            "100%|██████████| 79/79 [00:08<00:00,  8.88it/s]\n"
          ]
        },
        {
          "output_type": "stream",
          "name": "stdout",
          "text": [
            "test acc: 0.6999 - test loss : 1.7365\n",
            "\n"
          ]
        },
        {
          "output_type": "stream",
          "name": "stderr",
          "text": [
            "100%|██████████| 391/391 [01:49<00:00,  3.58it/s]\n"
          ]
        },
        {
          "output_type": "stream",
          "name": "stdout",
          "text": [
            "Epoch : 25 - acc: 0.9867 - loss : 0.0389\n",
            "\n"
          ]
        },
        {
          "output_type": "stream",
          "name": "stderr",
          "text": [
            "100%|██████████| 79/79 [00:08<00:00,  8.85it/s]\n"
          ]
        },
        {
          "output_type": "stream",
          "name": "stdout",
          "text": [
            "test acc: 0.7072 - test loss : 1.6713\n",
            "\n"
          ]
        }
      ]
    },
    {
      "cell_type": "code",
      "source": [
        "print_performance_graph(epochs, model.name, train_accs, test_accs)"
      ],
      "metadata": {
        "id": "1zrk-h2f5Mpl",
        "colab": {
          "base_uri": "https://localhost:8080/",
          "height": 376
        },
        "outputId": "e1110ffb-14cf-471d-89bd-7940f7157e29"
      },
      "execution_count": 41,
      "outputs": [
        {
          "output_type": "display_data",
          "data": {
            "text/plain": [
              "<Figure size 576x396 with 1 Axes>"
            ],
            "image/png": "[encoded data removed]"
          },
          "metadata": {}
        }
      ]
    },
    {
      "cell_type": "markdown",
      "source": [
        "## Results and conclusions\n",
        "\n",
        "Based on the experiments performed in this notebook, we can see that gMLP achieves superior performance on the CIFAR-10 dataset than ViT which can be further enhanced by add a bit of self attention. The authors work suggests a simpler alternative to the multi-head self-attention layers in Transformers. They\n",
        "show that gMLPs, a simple variant of MLPs with gating, can be competitive with Transformers in terms of ViT’s accuracy. As demonstrated in the last experiment, blending a small single-head self-attention into gMLP allows for an even better\n",
        "architecture without the need for increasing model size."
      ],
      "metadata": {
        "id": "qGmd0ScQn2fI"
      }
    }
  ],
  "metadata": {
    "accelerator": "GPU",
    "colab": {
      "collapsed_sections": [],
      "name": "gMLPs_for_Image_Classification.ipynb",
      "provenance": [],
      "toc_visible": true,
      "include_colab_link": true
    },
    "kernelspec": {
      "display_name": "Python 3",
      "name": "python3"
    },
    "language_info": {
      "name": "python"
    },
    "widgets": {
      "application/vnd.jupyter.widget-state+json": {
        "8d9e58bd02754f29b53352f9176b4ae9": {
          "model_module": "@jupyter-widgets/controls",
          "model_name": "HBoxModel",
          "model_module_version": "1.5.0",
          "state": {
            "_dom_classes": [],
            "_model_module": "@jupyter-widgets/controls",
            "_model_module_version": "1.5.0",
            "_model_name": "HBoxModel",
            "_view_count": null,
            "_view_module": "@jupyter-widgets/controls",
            "_view_module_version": "1.5.0",
            "_view_name": "HBoxView",
            "box_style": "",
            "children": [
              "IPY_MODEL_c5c2a02edf4f4ab9b104b2ea3f5eb745",
              "IPY_MODEL_6b82423cd1554ddda6a1d4599ce9b7b8",
              "IPY_MODEL_5295cc032fb643a2a058cfb6dad900e6"
            ],
            "layout": "IPY_MODEL_3c49d50091ff48468fd0547fd7ed8c93"
          }
        },
        "c5c2a02edf4f4ab9b104b2ea3f5eb745": {
          "model_module": "@jupyter-widgets/controls",
          "model_name": "HTMLModel",
          "model_module_version": "1.5.0",
          "state": {
            "_dom_classes": [],
            "_model_module": "@jupyter-widgets/controls",
            "_model_module_version": "1.5.0",
            "_model_name": "HTMLModel",
            "_view_count": null,
            "_view_module": "@jupyter-widgets/controls",
            "_view_module_version": "1.5.0",
            "_view_name": "HTMLView",
            "description": "",
            "description_tooltip": null,
            "layout": "IPY_MODEL_16dd3072c27841bbbe7a1a932369a470",
            "placeholder": "​",
            "style": "IPY_MODEL_6d8b2cbf9ba34625bff0017f456b932f",
            "value": ""
          }
        },
        "6b82423cd1554ddda6a1d4599ce9b7b8": {
          "model_module": "@jupyter-widgets/controls",
          "model_name": "FloatProgressModel",
          "model_module_version": "1.5.0",
          "state": {
            "_dom_classes": [],
            "_model_module": "@jupyter-widgets/controls",
            "_model_module_version": "1.5.0",
            "_model_name": "FloatProgressModel",
            "_view_count": null,
            "_view_module": "@jupyter-widgets/controls",
            "_view_module_version": "1.5.0",
            "_view_name": "ProgressView",
            "bar_style": "success",
            "description": "",
            "description_tooltip": null,
            "layout": "IPY_MODEL_0ac357c9930b405589f56d8fc2d39804",
            "max": 170498071,
            "min": 0,
            "orientation": "horizontal",
            "style": "IPY_MODEL_424691e217c648e8858e90e71328cc78",
            "value": 170498071
          }
        },
        "5295cc032fb643a2a058cfb6dad900e6": {
          "model_module": "@jupyter-widgets/controls",
          "model_name": "HTMLModel",
          "model_module_version": "1.5.0",
          "state": {
            "_dom_classes": [],
            "_model_module": "@jupyter-widgets/controls",
            "_model_module_version": "1.5.0",
            "_model_name": "HTMLModel",
            "_view_count": null,
            "_view_module": "@jupyter-widgets/controls",
            "_view_module_version": "1.5.0",
            "_view_name": "HTMLView",
            "description": "",
            "description_tooltip": null,
            "layout": "IPY_MODEL_5dd325d22a4c494ab86e0c042a707ccc",
            "placeholder": "​",
            "style": "IPY_MODEL_3946ddc3be964a9facdf141d00eaadaf",
            "value": " 170499072/? [00:02&lt;00:00, 70995722.23it/s]"
          }
        },
        "3c49d50091ff48468fd0547fd7ed8c93": {
          "model_module": "@jupyter-widgets/base",
          "model_name": "LayoutModel",
          "model_module_version": "1.2.0",
          "state": {
            "_model_module": "@jupyter-widgets/base",
            "_model_module_version": "1.2.0",
            "_model_name": "LayoutModel",
            "_view_count": null,
            "_view_module": "@jupyter-widgets/base",
            "_view_module_version": "1.2.0",
            "_view_name": "LayoutView",
            "align_content": null,
            "align_items": null,
            "align_self": null,
            "border": null,
            "bottom": null,
            "display": null,
            "flex": null,
            "flex_flow": null,
            "grid_area": null,
            "grid_auto_columns": null,
            "grid_auto_flow": null,
            "grid_auto_rows": null,
            "grid_column": null,
            "grid_gap": null,
            "grid_row": null,
            "grid_template_areas": null,
            "grid_template_columns": null,
            "grid_template_rows": null,
            "height": null,
            "justify_content": null,
            "justify_items": null,
            "left": null,
            "margin": null,
            "max_height": null,
            "max_width": null,
            "min_height": null,
            "min_width": null,
            "object_fit": null,
            "object_position": null,
            "order": null,
            "overflow": null,
            "overflow_x": null,
            "overflow_y": null,
            "padding": null,
            "right": null,
            "top": null,
            "visibility": null,
            "width": null
          }
        },
        "16dd3072c27841bbbe7a1a932369a470": {
          "model_module": "@jupyter-widgets/base",
          "model_name": "LayoutModel",
          "model_module_version": "1.2.0",
          "state": {
            "_model_module": "@jupyter-widgets/base",
            "_model_module_version": "1.2.0",
            "_model_name": "LayoutModel",
            "_view_count": null,
            "_view_module": "@jupyter-widgets/base",
            "_view_module_version": "1.2.0",
            "_view_name": "LayoutView",
            "align_content": null,
            "align_items": null,
            "align_self": null,
            "border": null,
            "bottom": null,
            "display": null,
            "flex": null,
            "flex_flow": null,
            "grid_area": null,
            "grid_auto_columns": null,
            "grid_auto_flow": null,
            "grid_auto_rows": null,
            "grid_column": null,
            "grid_gap": null,
            "grid_row": null,
            "grid_template_areas": null,
            "grid_template_columns": null,
            "grid_template_rows": null,
            "height": null,
            "justify_content": null,
            "justify_items": null,
            "left": null,
            "margin": null,
            "max_height": null,
            "max_width": null,
            "min_height": null,
            "min_width": null,
            "object_fit": null,
            "object_position": null,
            "order": null,
            "overflow": null,
            "overflow_x": null,
            "overflow_y": null,
            "padding": null,
            "right": null,
            "top": null,
            "visibility": null,
            "width": null
          }
        },
        "6d8b2cbf9ba34625bff0017f456b932f": {
          "model_module": "@jupyter-widgets/controls",
          "model_name": "DescriptionStyleModel",
          "model_module_version": "1.5.0",
          "state": {
            "_model_module": "@jupyter-widgets/controls",
            "_model_module_version": "1.5.0",
            "_model_name": "DescriptionStyleModel",
            "_view_count": null,
            "_view_module": "@jupyter-widgets/base",
            "_view_module_version": "1.2.0",
            "_view_name": "StyleView",
            "description_width": ""
          }
        },
        "0ac357c9930b405589f56d8fc2d39804": {
          "model_module": "@jupyter-widgets/base",
          "model_name": "LayoutModel",
          "model_module_version": "1.2.0",
          "state": {
            "_model_module": "@jupyter-widgets/base",
            "_model_module_version": "1.2.0",
            "_model_name": "LayoutModel",
            "_view_count": null,
            "_view_module": "@jupyter-widgets/base",
            "_view_module_version": "1.2.0",
            "_view_name": "LayoutView",
            "align_content": null,
            "align_items": null,
            "align_self": null,
            "border": null,
            "bottom": null,
            "display": null,
            "flex": null,
            "flex_flow": null,
            "grid_area": null,
            "grid_auto_columns": null,
            "grid_auto_flow": null,
            "grid_auto_rows": null,
            "grid_column": null,
            "grid_gap": null,
            "grid_row": null,
            "grid_template_areas": null,
            "grid_template_columns": null,
            "grid_template_rows": null,
            "height": null,
            "justify_content": null,
            "justify_items": null,
            "left": null,
            "margin": null,
            "max_height": null,
            "max_width": null,
            "min_height": null,
            "min_width": null,
            "object_fit": null,
            "object_position": null,
            "order": null,
            "overflow": null,
            "overflow_x": null,
            "overflow_y": null,
            "padding": null,
            "right": null,
            "top": null,
            "visibility": null,
            "width": null
          }
        },
        "424691e217c648e8858e90e71328cc78": {
          "model_module": "@jupyter-widgets/controls",
          "model_name": "ProgressStyleModel",
          "model_module_version": "1.5.0",
          "state": {
            "_model_module": "@jupyter-widgets/controls",
            "_model_module_version": "1.5.0",
            "_model_name": "ProgressStyleModel",
            "_view_count": null,
            "_view_module": "@jupyter-widgets/base",
            "_view_module_version": "1.2.0",
            "_view_name": "StyleView",
            "bar_color": null,
            "description_width": ""
          }
        },
        "5dd325d22a4c494ab86e0c042a707ccc": {
          "model_module": "@jupyter-widgets/base",
          "model_name": "LayoutModel",
          "model_module_version": "1.2.0",
          "state": {
            "_model_module": "@jupyter-widgets/base",
            "_model_module_version": "1.2.0",
            "_model_name": "LayoutModel",
            "_view_count": null,
            "_view_module": "@jupyter-widgets/base",
            "_view_module_version": "1.2.0",
            "_view_name": "LayoutView",
            "align_content": null,
            "align_items": null,
            "align_self": null,
            "border": null,
            "bottom": null,
            "display": null,
            "flex": null,
            "flex_flow": null,
            "grid_area": null,
            "grid_auto_columns": null,
            "grid_auto_flow": null,
            "grid_auto_rows": null,
            "grid_column": null,
            "grid_gap": null,
            "grid_row": null,
            "grid_template_areas": null,
            "grid_template_columns": null,
            "grid_template_rows": null,
            "height": null,
            "justify_content": null,
            "justify_items": null,
            "left": null,
            "margin": null,
            "max_height": null,
            "max_width": null,
            "min_height": null,
            "min_width": null,
            "object_fit": null,
            "object_position": null,
            "order": null,
            "overflow": null,
            "overflow_x": null,
            "overflow_y": null,
            "padding": null,
            "right": null,
            "top": null,
            "visibility": null,
            "width": null
          }
        },
        "3946ddc3be964a9facdf141d00eaadaf": {
          "model_module": "@jupyter-widgets/controls",
          "model_name": "DescriptionStyleModel",
          "model_module_version": "1.5.0",
          "state": {
            "_model_module": "@jupyter-widgets/controls",
            "_model_module_version": "1.5.0",
            "_model_name": "DescriptionStyleModel",
            "_view_count": null,
            "_view_module": "@jupyter-widgets/base",
            "_view_module_version": "1.2.0",
            "_view_name": "StyleView",
            "description_width": ""
          }
        }
      }
    }
  },
  "nbformat": 4,
  "nbformat_minor": 0
}